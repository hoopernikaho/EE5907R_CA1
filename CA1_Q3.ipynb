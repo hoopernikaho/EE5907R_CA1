{
 "cells": [
  {
   "cell_type": "markdown",
   "metadata": {
    "deletable": true,
    "editable": true
   },
   "source": [
    "# EE5907 Programming Assignment Q3\n",
    "Lee Jianwei\n",
    "A0018867"
   ]
  },
  {
   "cell_type": "code",
   "execution_count": 4,
   "metadata": {
    "collapsed": true,
    "deletable": true,
    "editable": true
   },
   "outputs": [],
   "source": [
    "from __future__ import division\n",
    "import scipy.io\n",
    "from scipy.stats import norm\n",
    "import numpy as np\n",
    "import matplotlib.pyplot as plt\n",
    "\n",
    "from multiprocessing import Pool\n",
    "np.set_printoptions(precision=2, suppress=True)"
   ]
  },
  {
   "cell_type": "markdown",
   "metadata": {
    "deletable": true,
    "editable": true
   },
   "source": [
    "# Load Data"
   ]
  },
  {
   "cell_type": "code",
   "execution_count": 5,
   "metadata": {
    "collapsed": false,
    "deletable": true,
    "editable": true
   },
   "outputs": [],
   "source": [
    "d = scipy.io.loadmat('spamData.mat')\n",
    "ytest = d['ytest'].flatten()\n",
    "ytrain = d['ytrain'].flatten()\n",
    "xtest = d['Xtest']\n",
    "xtrain = d['Xtrain']"
   ]
  },
  {
   "cell_type": "code",
   "execution_count": 6,
   "metadata": {
    "collapsed": true,
    "deletable": true,
    "editable": true
   },
   "outputs": [],
   "source": [
    "def binarize(array):\n",
    "    \"\"\"array: list of emails, each 57 features long\"\"\"\n",
    "    return np.array([x>0 for x in array]).astype('uint8')\n",
    "xtrainBin = binarize(xtrain)\n",
    "xtestBin = binarize(xtest)"
   ]
  },
  {
   "cell_type": "code",
   "execution_count": 11,
   "metadata": {
    "collapsed": true,
    "deletable": true,
    "editable": true
   },
   "outputs": [],
   "source": [
    "#z-normalise features\n",
    "def znorm1D(array1D):\n",
    "    m = np.mean(array1D)\n",
    "    s = np.std(array1D)\n",
    "    return np.array((array1D-m)/s)\n",
    "def znorm2D(array2D):\n",
    "    \"\"\"znorm along columns of 2D array\"\"\"\n",
    "    znormed_columns = np.array([znorm1D(c) for c in array2D.T]) # each column in array2D is a row (called c) in array2D.T\n",
    "    return znormed_columns.T\n",
    "xtrainZ = znorm2D(xtrain)\n",
    "xtestZ = znorm2D(xtest)"
   ]
  },
  {
   "cell_type": "code",
   "execution_count": 13,
   "metadata": {
    "collapsed": true,
    "deletable": true,
    "editable": true
   },
   "outputs": [],
   "source": [
    "#log-transform features\n",
    "def log2D(array):\n",
    "    \"\"\"array: list of emails, each 57 features long\"\"\"\n",
    "    return np.array([np.log(x+0.1) for x in array]).astype('uint8') #x is a 57 element array\n",
    "xtrainLog = log2D(xtrain)\n",
    "xtestLog = log2D(xtest)"
   ]
  },
  {
   "cell_type": "code",
   "execution_count": 7,
   "metadata": {
    "collapsed": true,
    "deletable": true,
    "editable": true
   },
   "outputs": [],
   "source": [
    "classMLE = np.average(ytrain)"
   ]
  },
  {
   "cell_type": "code",
   "execution_count": 1,
   "metadata": {
    "collapsed": true,
    "deletable": true,
    "editable": true
   },
   "outputs": [],
   "source": [
    "def sigmoid(x):\n",
    "    return 1/(1 + np.exp(-x))"
   ]
  },
  {
   "cell_type": "code",
   "execution_count": 8,
   "metadata": {
    "collapsed": false
   },
   "outputs": [
    {
     "data": {
      "text/plain": [
       "array([  8.,   4.,  33., ...,  30.,   7.,  16.])"
      ]
     },
     "execution_count": 8,
     "metadata": {},
     "output_type": "execute_result"
    }
   ],
   "source": [
    "np.dot(xtrainBin,np.ones(57))"
   ]
  },
  {
   "cell_type": "code",
   "execution_count": 11,
   "metadata": {
    "collapsed": false
   },
   "outputs": [
    {
     "data": {
      "text/plain": [
       "4"
      ]
     },
     "execution_count": 11,
     "metadata": {},
     "output_type": "execute_result"
    }
   ],
   "source": [
    "np.sum(xtrainBin[1])"
   ]
  },
  {
   "cell_type": "code",
   "execution_count": 18,
   "metadata": {
    "collapsed": false
   },
   "outputs": [
    {
     "data": {
      "text/plain": [
       "array([1, 0, 1, ..., 1, 1, 0], dtype=uint8)"
      ]
     },
     "execution_count": 18,
     "metadata": {},
     "output_type": "execute_result"
    }
   ],
   "source": [
    "ytrain"
   ]
  },
  {
   "cell_type": "code",
   "execution_count": 160,
   "metadata": {
    "collapsed": true
   },
   "outputs": [],
   "source": [
    "def reg_params(x_array2D, y_array1D, w, lamb):\n",
    "    \"\"\"returns NLL, g, H\"\"\"\n",
    "    N_features = x_array2D.shape[1] # number of features per mail: default is 57\n",
    "    x_array2D = np.insert(x_array2D,0,1,axis=1) # modify feature list to include a 1 at the start\n",
    "    mu = sigmoid(-np.dot(x_array2D, w)) # array1D of mus, one for each email\n",
    "    NLL = -np.sum([y*np.log(m) + (1-y)*np.log(1-m) for y,m in zip (y_array1D, mu)])\n",
    "    g = np.dot(x_array2D.T,(mu-y_array1D))\n",
    "    S = np.diag(mu*(1-mu))\n",
    "    H = np.dot(x_array2D.T, np.dot(S, x_array2D))\n",
    "    \n",
    "    NLL_reg = NLL + 0.5*lamb*np.inner(w[1:],w[1:])\n",
    "    g_reg = g + np.insert(lamb*w[1:],0,0) # first element of g is unregularised\n",
    "    H_reg = H + np.diag(np.insert(lamb*np.ones(N_features),0,0)) # first diagonal element is unregularised\n",
    "    return NLL_reg, g_reg, H_reg\n"
   ]
  },
  {
   "cell_type": "code",
   "execution_count": 159,
   "metadata": {
    "collapsed": false
   },
   "outputs": [
    {
     "name": "stdout",
     "output_type": "stream",
     "text": [
      "[ 542.5  -473.83   92.66 -580.71 -144.76 -715.53 -594.98 -760.39 -602.75\n",
      " -581.66 -493.48 -712.91 -208.98 -409.25 -216.97 -594.77 -631.88 -694.28\n",
      " -586.9  -647.15 -587.88 -957.1  -299.51 -878.86 -518.09  162.79   72.63\n",
      "  440.43  -13.37   -8.88  -18.94  -54.56  -65.23  147.44  -69.2     2.87\n",
      "  -17.29   37.88  -26.6     1.35 -207.82   17.65  112.11  -62.5    82.32\n",
      "  165.74  208.53  -35.78   34.15  -38.33  -27.    -45.42 -500.6  -816.7\n",
      " -227.96 -304.52 -536.13 -673.05] [ 542.5  -472.83   93.66 -579.71 -143.76 -714.53 -593.98 -759.39 -601.75\n",
      " -580.66 -492.48 -711.91 -207.98 -408.25 -215.97 -593.77 -630.88 -693.28\n",
      " -585.9  -646.15 -586.88 -956.1  -298.51 -877.86 -517.09  163.79   73.63\n",
      "  441.43  -12.37   -7.88  -17.94  -53.56  -64.23  148.44  -68.2     3.87\n",
      "  -16.29   38.88  -25.6     2.35 -206.82   18.65  113.11  -61.5    83.32\n",
      "  166.74  209.53  -34.78   35.15  -37.33  -26.    -44.42 -499.6  -815.7\n",
      " -226.96 -303.52 -535.13 -672.05]\n"
     ]
    }
   ],
   "source": [
    "NLL_reg, g_reg, H_reg = reg_params(xtrainZ,ytrain,np.ones(58),1)"
   ]
  },
  {
   "cell_type": "code",
   "execution_count": 134,
   "metadata": {
    "collapsed": false
   },
   "outputs": [
    {
     "data": {
      "text/plain": [
       "array([[1, 0, 0, ..., 1, 1, 1],\n",
       "       [1, 0, 0, ..., 1, 1, 1],\n",
       "       [1, 1, 1, ..., 1, 1, 1],\n",
       "       ..., \n",
       "       [1, 0, 1, ..., 1, 1, 1],\n",
       "       [1, 0, 0, ..., 1, 1, 1],\n",
       "       [1, 0, 0, ..., 1, 1, 1]], dtype=uint8)"
      ]
     },
     "execution_count": 134,
     "metadata": {},
     "output_type": "execute_result"
    }
   ],
   "source": [
    "np.insert(xtrainBin,0,1,axis=1)"
   ]
  },
  {
   "cell_type": "code",
   "execution_count": 154,
   "metadata": {
    "collapsed": false
   },
   "outputs": [
    {
     "data": {
      "text/plain": [
       "array([[ 0.,  0.,  0., ...,  0.,  0.,  0.],\n",
       "       [ 0.,  1.,  0., ...,  0.,  0.,  0.],\n",
       "       [ 0.,  0.,  1., ...,  0.,  0.,  0.],\n",
       "       ..., \n",
       "       [ 0.,  0.,  0., ...,  1.,  0.,  0.],\n",
       "       [ 0.,  0.,  0., ...,  0.,  1.,  0.],\n",
       "       [ 0.,  0.,  0., ...,  0.,  0.,  1.]])"
      ]
     },
     "execution_count": 154,
     "metadata": {},
     "output_type": "execute_result"
    }
   ],
   "source": [
    "np.diag(np.insert(np.ones(57),0,0))"
   ]
  },
  {
   "cell_type": "code",
   "execution_count": null,
   "metadata": {
    "collapsed": true
   },
   "outputs": [],
   "source": []
  }
 ],
 "metadata": {
  "kernelspec": {
   "display_name": "Python 2",
   "language": "python",
   "name": "python2"
  },
  "language_info": {
   "codemirror_mode": {
    "name": "ipython",
    "version": 2
   },
   "file_extension": ".py",
   "mimetype": "text/x-python",
   "name": "python",
   "nbconvert_exporter": "python",
   "pygments_lexer": "ipython2",
   "version": "2.7.10"
  }
 },
 "nbformat": 4,
 "nbformat_minor": 2
}
