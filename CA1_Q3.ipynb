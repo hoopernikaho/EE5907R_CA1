{
 "cells": [
  {
   "cell_type": "markdown",
   "metadata": {
    "deletable": true,
    "editable": true
   },
   "source": [
    "# EE5907 Programming Assignment Q3\n",
    "Lee Jianwei\n",
    "A0018867"
   ]
  },
  {
   "cell_type": "code",
   "execution_count": 1,
   "metadata": {
    "collapsed": true,
    "deletable": true,
    "editable": true
   },
   "outputs": [],
   "source": [
    "from __future__ import division\n",
    "import scipy.io\n",
    "from scipy.stats import norm\n",
    "import numpy as np\n",
    "import matplotlib.pyplot as plt\n",
    "\n",
    "from multiprocessing import Pool\n",
    "np.set_printoptions(precision=2, suppress=True)"
   ]
  },
  {
   "cell_type": "markdown",
   "metadata": {
    "deletable": true,
    "editable": true
   },
   "source": [
    "# Load Data"
   ]
  },
  {
   "cell_type": "code",
   "execution_count": 2,
   "metadata": {
    "collapsed": false,
    "deletable": true,
    "editable": true
   },
   "outputs": [],
   "source": [
    "d = scipy.io.loadmat('spamData.mat')\n",
    "ytest = d['ytest'].flatten()\n",
    "ytrain = d['ytrain'].flatten()\n",
    "xtest = d['Xtest']\n",
    "xtrain = d['Xtrain']"
   ]
  },
  {
   "cell_type": "code",
   "execution_count": 3,
   "metadata": {
    "collapsed": true,
    "deletable": true,
    "editable": true
   },
   "outputs": [],
   "source": [
    "def binarize(array):\n",
    "    \"\"\"array: list of emails, each 57 features long\"\"\"\n",
    "    return np.array([x>0 for x in array]).astype('uint8')\n",
    "xtrainBin = binarize(xtrain)\n",
    "xtestBin = binarize(xtest)"
   ]
  },
  {
   "cell_type": "code",
   "execution_count": 4,
   "metadata": {
    "collapsed": true,
    "deletable": true,
    "editable": true
   },
   "outputs": [],
   "source": [
    "#z-normalise features\n",
    "def znorm1D(array1D):\n",
    "    m = np.mean(array1D)\n",
    "    s = np.std(array1D)\n",
    "    return np.array((array1D-m)/s)\n",
    "def znorm2D(array2D):\n",
    "    \"\"\"znorm along columns of 2D array\"\"\"\n",
    "    znormed_columns = np.array([znorm1D(c) for c in array2D.T]) # each column in array2D is a row (called c) in array2D.T\n",
    "    return znormed_columns.T\n",
    "xtrainZ = znorm2D(xtrain)\n",
    "xtestZ = znorm2D(xtest)"
   ]
  },
  {
   "cell_type": "code",
   "execution_count": 3,
   "metadata": {
    "collapsed": true,
    "deletable": true,
    "editable": true
   },
   "outputs": [],
   "source": [
    "#log-transform features\n",
    "def log2D(array):\n",
    "    \"\"\"array: list of emails, each 57 features long\"\"\"\n",
    "    return np.array([np.log(x+0.1) for x in array]) #x is a 57 element array\n",
    "xtrainLog = log2D(xtrain)\n",
    "xtestLog = log2D(xtest)"
   ]
  },
  {
   "cell_type": "code",
   "execution_count": 4,
   "metadata": {
    "collapsed": true,
    "deletable": true,
    "editable": true
   },
   "outputs": [],
   "source": [
    "classMLE = np.average(ytrain)"
   ]
  },
  {
   "cell_type": "code",
   "execution_count": 5,
   "metadata": {
    "collapsed": true,
    "deletable": true,
    "editable": true
   },
   "outputs": [],
   "source": [
    "def sigmoid(x):\n",
    "    return 1/(1 + np.exp(-x))"
   ]
  },
  {
   "cell_type": "code",
   "execution_count": 6,
   "metadata": {
    "collapsed": true,
    "deletable": true,
    "editable": true
   },
   "outputs": [],
   "source": [
    "def reg_params(x_array2D, y_array1D, w, lamb):\n",
    "    \"\"\"returns NLL, g, H\"\"\"\n",
    "    N_features = x_array2D.shape[1] # number of features per mail: default is 57\n",
    "    x_array2D = np.insert(x_array2D,0,1,axis=1) # modify feature list to include a 1 at the start\n",
    "\n",
    "    mu = sigmoid(np.dot(x_array2D, w)) # array1D of mus, one for each email\n",
    "    NLL = -np.sum([y*np.log(m) + (1-y)*np.log(1-m) for y,m in zip (y_array1D, mu)])\n",
    "    g = np.dot(x_array2D.T,(mu-y_array1D))\n",
    "    S = np.diag(mu*(1-mu))\n",
    "    H = np.dot(x_array2D.T, np.dot(S, x_array2D))\n",
    "    \n",
    "    NLL_reg = NLL + 0.5*lamb*np.inner(w[1:],w[1:])\n",
    "    g_reg = g + np.insert(lamb*w[1:],0,0) # first element of g is unregularised\n",
    "    H_reg = H + np.diag(np.insert(lamb*np.ones(N_features),0,0)) # first diagonal element is unregularised\n",
    "    \n",
    "#     print x_array2D\n",
    "#     print mu\n",
    "    \n",
    "    return NLL_reg, g_reg, H_reg\n"
   ]
  },
  {
   "cell_type": "code",
   "execution_count": 9,
   "metadata": {
    "collapsed": false,
    "deletable": true,
    "editable": true
   },
   "outputs": [
    {
     "name": "stderr",
     "output_type": "stream",
     "text": [
      "/usr/local/lib/python2.7/dist-packages/ipykernel/__main__.py:7: RuntimeWarning: divide by zero encountered in log\n",
      "/usr/local/lib/python2.7/dist-packages/ipykernel/__main__.py:7: RuntimeWarning: invalid value encountered in multiply\n"
     ]
    }
   ],
   "source": [
    "NLL_reg, g_reg, H_reg = reg_params(xtrainZ,ytrain,np.ones(58),1)"
   ]
  },
  {
   "cell_type": "code",
   "execution_count": 7,
   "metadata": {
    "collapsed": false,
    "deletable": true,
    "editable": true
   },
   "outputs": [],
   "source": [
    "def omega(x_array2D, y_array1D, lamb):\n",
    "    \"\"\"\n",
    "    this function implements Newton's method for logistic regression to find w which describes the dataset x_array2D, yarray1D\n",
    "    \"\"\"\n",
    "    \"\"\"initialisation\"\"\"\n",
    "    N_features = x_array2D.shape[1]\n",
    "    wInit = np.zeros(N_features+1)\n",
    "    w = wInit\n",
    "    converge = False \n",
    "    counter = 0\n",
    "    \"\"\"iterator to find optimal w\"\"\"\n",
    "    try:\n",
    "        while converge==False:\n",
    "            _, g, H = reg_params(x_array2D, y_array1D, w, lamb)\n",
    "            counter += 1\n",
    "            w_new = w - np.dot(np.linalg.inv(np.dot(H.T,H)),np.dot(H.T,g)) # numerically more stable than inv(H).g\n",
    "    #         w_new = w - np.dot(np.linalg.inv(H),g)\n",
    "            error = np.inner(w_new-w,w_new-w)/np.inner(w,w)\n",
    "            if  error < 0.001:\n",
    "                \"\"\"arbitrary error threshold set to 0.1%\"\"\"\n",
    "                converge = True\n",
    "            else:\n",
    "                w = w_new\n",
    "        return w_new\n",
    "    except:\n",
    "        print ('lambda = {}\\n iteration = {}\\n w_new-w = {:.5f}%\\n, g = {}\\n H = {}\\n'.format(lamb, counter, error*100, g, H))"
   ]
  },
  {
   "cell_type": "code",
   "execution_count": 8,
   "metadata": {
    "collapsed": true,
    "deletable": true,
    "editable": true
   },
   "outputs": [],
   "source": [
    "def LogReg_ErrorRate(x_array2D, y_array1D, x_training_array2D, y_training_array1D, lamb):\n",
    "    \"\"\"\n",
    "    uses omega to classify an array of emails x_array2D\n",
    "    compares results with y_array1D to check for error rate\n",
    "    \"\"\"\n",
    "    w = omega(x_training_array2D,y_training_array1D,lamb)\n",
    "    category = sigmoid(w[0]+np.dot(x_array2D, w[1:]))>0.5\n",
    "    category_error = np.logical_xor(category,y_array1D)\n",
    "    error_rate =  np.sum(category_error)/len(y_array1D)\n",
    "    return error_rate"
   ]
  },
  {
   "cell_type": "code",
   "execution_count": 9,
   "metadata": {
    "collapsed": false,
    "deletable": true,
    "editable": true
   },
   "outputs": [
    {
     "name": "stdout",
     "output_type": "stream",
     "text": [
      "[  1   2   3   4   5   6   7   8   9  10  15  20  25  30  35  40  45  50\n",
      "  55  60  65  70  75  80  85  90  95 100]\n"
     ]
    }
   ],
   "source": [
    "lambdas = np.insert(np.arange(15,105,5),0,np.arange(1,11,1))\n",
    "print lambdas"
   ]
  },
  {
   "cell_type": "markdown",
   "metadata": {
    "deletable": true,
    "editable": true
   },
   "source": [
    "# Binarised Data"
   ]
  },
  {
   "cell_type": "code",
   "execution_count": 27,
   "metadata": {
    "collapsed": false,
    "deletable": true,
    "editable": true
   },
   "outputs": [
    {
     "name": "stderr",
     "output_type": "stream",
     "text": [
      "/usr/local/lib/python2.7/dist-packages/ipykernel/__main__.py:17: RuntimeWarning: divide by zero encountered in double_scalars\n"
     ]
    }
   ],
   "source": [
    "TrainingBin_ErrorRates = map(lambda lamb: LogReg_ErrorRate(xtrainBin,ytrain,xtrainBin,ytrain,lamb), lambdas)"
   ]
  },
  {
   "cell_type": "code",
   "execution_count": 34,
   "metadata": {
    "collapsed": true,
    "deletable": true,
    "editable": true
   },
   "outputs": [],
   "source": [
    "# np.savetxt('LogisticRegression_TrainingBinErrorRates',zip(lambdas,TrainingBin_ErrorRates),header='lambdas\\tTrainingBin_ErrorRate')"
   ]
  },
  {
   "cell_type": "code",
   "execution_count": 16,
   "metadata": {
    "collapsed": false,
    "deletable": true,
    "editable": true
   },
   "outputs": [],
   "source": [
    "# lambdas,TrainingBin_ErrorRates = np.loadtxt('LogisticRegression_TrainingBinErrorRates').T"
   ]
  },
  {
   "cell_type": "code",
   "execution_count": 20,
   "metadata": {
    "collapsed": false,
    "deletable": true,
    "editable": true
   },
   "outputs": [
    {
     "data": {
      "image/png": "[encoded data removed]",
      "text/plain": [
       "<matplotlib.figure.Figure at 0x7f6e92ff15d0>"
      ]
     },
     "metadata": {},
     "output_type": "display_data"
    }
   ],
   "source": [
    "plt.figure()\n",
    "plt.title('error rates for binarised training data')\n",
    "plt.plot(lambdas, np.array(TrainingBin_ErrorRates)*100)\n",
    "plt.xlabel('lambda')\n",
    "plt.ylabel('error rate (%)')\n",
    "plt.show()"
   ]
  },
  {
   "cell_type": "code",
   "execution_count": 38,
   "metadata": {
    "collapsed": false,
    "deletable": true,
    "editable": true
   },
   "outputs": [
    {
     "name": "stderr",
     "output_type": "stream",
     "text": [
      "/usr/local/lib/python2.7/dist-packages/ipykernel/__main__.py:17: RuntimeWarning: divide by zero encountered in double_scalars\n"
     ]
    },
    {
     "data": {
      "text/plain": [
       "[0.064274061990212072, 0.066884176182707991, 0.093964110929853184]"
      ]
     },
     "execution_count": 38,
     "metadata": {},
     "output_type": "execute_result"
    }
   ],
   "source": [
    "# Error rates for training data for lambda = 1,10,100\n",
    "map(lambda lamb: LogReg_ErrorRate(xtrainBin,ytrain,xtrainBin,ytrain,lamb), [1,10,100])"
   ]
  },
  {
   "cell_type": "code",
   "execution_count": 38,
   "metadata": {
    "collapsed": false,
    "deletable": true,
    "editable": true,
    "scrolled": true
   },
   "outputs": [
    {
     "name": "stderr",
     "output_type": "stream",
     "text": [
      "/usr/local/lib/python2.7/dist-packages/ipykernel/__main__.py:17: RuntimeWarning: divide by zero encountered in double_scalars\n"
     ]
    }
   ],
   "source": [
    "TestingBin_ErrorRates = map(lambda lamb: LogReg_ErrorRate(xtestBin,ytest,xtrainBin,ytrain,lamb), lambdas)"
   ]
  },
  {
   "cell_type": "code",
   "execution_count": 39,
   "metadata": {
    "collapsed": true,
    "deletable": true,
    "editable": true
   },
   "outputs": [],
   "source": [
    "# np.savetxt('LogisticRegression_TestingBinErrorRates',zip(lambdas,TestingBin_ErrorRates),header='lambdas\\tTestingBin_ErrorRate')"
   ]
  },
  {
   "cell_type": "code",
   "execution_count": 22,
   "metadata": {
    "collapsed": false,
    "deletable": true,
    "editable": true
   },
   "outputs": [],
   "source": [
    "# lambdas,TestingBin_ErrorRates = np.loadtxt('LogisticRegression_TestingBinErrorRates').T"
   ]
  },
  {
   "cell_type": "code",
   "execution_count": 23,
   "metadata": {
    "collapsed": false,
    "deletable": true,
    "editable": true
   },
   "outputs": [
    {
     "data": {
      "image/png": "[encoded data removed]",
      "text/plain": [
       "<matplotlib.figure.Figure at 0x7f6eca086710>"
      ]
     },
     "metadata": {},
     "output_type": "display_data"
    }
   ],
   "source": [
    "plt.figure()\n",
    "plt.title('error rates for binarised testing data')\n",
    "plt.plot(lambdas, np.array(TestingBin_ErrorRates)*100)\n",
    "plt.xlabel('lambda')\n",
    "plt.ylabel('error rate (%)')\n",
    "plt.show()"
   ]
  },
  {
   "cell_type": "code",
   "execution_count": 39,
   "metadata": {
    "collapsed": false,
    "deletable": true,
    "editable": true
   },
   "outputs": [
    {
     "name": "stderr",
     "output_type": "stream",
     "text": [
      "/usr/local/lib/python2.7/dist-packages/ipykernel/__main__.py:17: RuntimeWarning: divide by zero encountered in double_scalars\n"
     ]
    },
    {
     "data": {
      "text/plain": [
       "[0.073567708333333329, 0.076822916666666671, 0.096354166666666671]"
      ]
     },
     "execution_count": 39,
     "metadata": {},
     "output_type": "execute_result"
    }
   ],
   "source": [
    "# Error rates for testing data for lambda = 1,10,100\n",
    "map(lambda lamb: LogReg_ErrorRate(xtestBin,ytest,xtrainBin,ytrain,lamb), [1,10,100])"
   ]
  },
  {
   "cell_type": "markdown",
   "metadata": {
    "deletable": true,
    "editable": true
   },
   "source": [
    "# Z-normed Data"
   ]
  },
  {
   "cell_type": "code",
   "execution_count": 46,
   "metadata": {
    "collapsed": false,
    "deletable": true,
    "editable": true,
    "scrolled": true
   },
   "outputs": [
    {
     "name": "stderr",
     "output_type": "stream",
     "text": [
      "/usr/local/lib/python2.7/dist-packages/ipykernel/__main__.py:17: RuntimeWarning: divide by zero encountered in double_scalars\n",
      "/usr/local/lib/python2.7/dist-packages/ipykernel/__main__.py:7: RuntimeWarning: divide by zero encountered in log\n",
      "/usr/local/lib/python2.7/dist-packages/ipykernel/__main__.py:7: RuntimeWarning: invalid value encountered in multiply\n"
     ]
    }
   ],
   "source": [
    "TrainingZ_ErrorRates = map(lambda lamb: LogReg_ErrorRate(xtrainZ,ytrain,xtrainZ,ytrain,lamb), lambdas)"
   ]
  },
  {
   "cell_type": "code",
   "execution_count": 47,
   "metadata": {
    "collapsed": true,
    "deletable": true,
    "editable": true
   },
   "outputs": [],
   "source": [
    "# np.savetxt('LogisticRegression_TrainingZErrorRates',zip(lambdas,TrainingZ_ErrorRates),header='lambdas\\tTrainingZ_ErrorRate')"
   ]
  },
  {
   "cell_type": "code",
   "execution_count": 24,
   "metadata": {
    "collapsed": true,
    "deletable": true,
    "editable": true
   },
   "outputs": [],
   "source": [
    "# lambdas,TrainingZ_ErrorRates = np.loadtxt('LogisticRegression_TrainingZErrorRates').T"
   ]
  },
  {
   "cell_type": "code",
   "execution_count": 25,
   "metadata": {
    "collapsed": false,
    "deletable": true,
    "editable": true
   },
   "outputs": [
    {
     "data": {
      "image/png": "[encoded data removed]",
      "text/plain": [
       "<matplotlib.figure.Figure at 0x7f6e92dce350>"
      ]
     },
     "metadata": {},
     "output_type": "display_data"
    }
   ],
   "source": [
    "plt.figure()\n",
    "plt.title('error rates for Z-normed Training data')\n",
    "plt.plot(lambdas, np.array(TrainingZ_ErrorRates)*100)\n",
    "plt.xlabel('lambda')\n",
    "plt.ylabel('error rate (%)')\n",
    "plt.show()"
   ]
  },
  {
   "cell_type": "code",
   "execution_count": 40,
   "metadata": {
    "collapsed": false,
    "deletable": true,
    "editable": true
   },
   "outputs": [
    {
     "name": "stderr",
     "output_type": "stream",
     "text": [
      "/usr/local/lib/python2.7/dist-packages/ipykernel/__main__.py:17: RuntimeWarning: divide by zero encountered in double_scalars\n",
      "/usr/local/lib/python2.7/dist-packages/ipykernel/__main__.py:7: RuntimeWarning: divide by zero encountered in log\n",
      "/usr/local/lib/python2.7/dist-packages/ipykernel/__main__.py:7: RuntimeWarning: invalid value encountered in multiply\n"
     ]
    },
    {
     "data": {
      "text/plain": [
       "[0.076345840130505715, 0.081566068515497553, 0.096574225122349103]"
      ]
     },
     "execution_count": 40,
     "metadata": {},
     "output_type": "execute_result"
    }
   ],
   "source": [
    "# Error rates for training data for lambda = 1,10,100\n",
    "map(lambda lamb: LogReg_ErrorRate(xtrainZ,ytrain,xtrainZ,ytrain,lamb), [1,10,100])"
   ]
  },
  {
   "cell_type": "code",
   "execution_count": 43,
   "metadata": {
    "collapsed": false,
    "deletable": true,
    "editable": true,
    "scrolled": true
   },
   "outputs": [
    {
     "name": "stderr",
     "output_type": "stream",
     "text": [
      "/usr/local/lib/python2.7/dist-packages/ipykernel/__main__.py:17: RuntimeWarning: divide by zero encountered in double_scalars\n",
      "/usr/local/lib/python2.7/dist-packages/ipykernel/__main__.py:7: RuntimeWarning: divide by zero encountered in log\n",
      "/usr/local/lib/python2.7/dist-packages/ipykernel/__main__.py:7: RuntimeWarning: invalid value encountered in multiply\n"
     ]
    }
   ],
   "source": [
    "TestingZ_ErrorRates = map(lambda lamb: LogReg_ErrorRate(xtestZ,ytest,xtrainZ,ytrain,lamb), lambdas)"
   ]
  },
  {
   "cell_type": "code",
   "execution_count": 44,
   "metadata": {
    "collapsed": true,
    "deletable": true,
    "editable": true
   },
   "outputs": [],
   "source": [
    "# np.savetxt('LogisticRegression_TestingZErrorRates',zip(lambdas,TestingZ_ErrorRates),header='lambdas\\tTestingZ_ErrorRate')"
   ]
  },
  {
   "cell_type": "code",
   "execution_count": 26,
   "metadata": {
    "collapsed": true,
    "deletable": true,
    "editable": true
   },
   "outputs": [],
   "source": [
    "# lambdas,TestingZ_ErrorRates = np.loadtxt('LogisticRegression_TestingZErrorRates').T"
   ]
  },
  {
   "cell_type": "code",
   "execution_count": 27,
   "metadata": {
    "collapsed": false,
    "deletable": true,
    "editable": true
   },
   "outputs": [
    {
     "data": {
      "image/png": "[encoded data removed]",
      "text/plain": [
       "<matplotlib.figure.Figure at 0x7f6e92d1db10>"
      ]
     },
     "metadata": {},
     "output_type": "display_data"
    }
   ],
   "source": [
    "plt.figure()\n",
    "plt.title('error rates for Z-normed testing data')\n",
    "plt.plot(lambdas, np.array(TestingZ_ErrorRates)*100)\n",
    "plt.xlabel('lambda')\n",
    "plt.ylabel('error rate (%)')\n",
    "plt.show()"
   ]
  },
  {
   "cell_type": "code",
   "execution_count": 41,
   "metadata": {
    "collapsed": false,
    "deletable": true,
    "editable": true
   },
   "outputs": [
    {
     "name": "stderr",
     "output_type": "stream",
     "text": [
      "/usr/local/lib/python2.7/dist-packages/ipykernel/__main__.py:17: RuntimeWarning: divide by zero encountered in double_scalars\n",
      "/usr/local/lib/python2.7/dist-packages/ipykernel/__main__.py:7: RuntimeWarning: divide by zero encountered in log\n",
      "/usr/local/lib/python2.7/dist-packages/ipykernel/__main__.py:7: RuntimeWarning: invalid value encountered in multiply\n"
     ]
    },
    {
     "data": {
      "text/plain": [
       "[0.068359375, 0.071614583333333329, 0.085286458333333329]"
      ]
     },
     "execution_count": 41,
     "metadata": {},
     "output_type": "execute_result"
    }
   ],
   "source": [
    "# Error rates for testing data for lambda = 1,10,100\n",
    "map(lambda lamb: LogReg_ErrorRate(xtestZ,ytest,xtrainZ,ytrain,lamb), [1,10,100])"
   ]
  },
  {
   "cell_type": "markdown",
   "metadata": {
    "deletable": true,
    "editable": true
   },
   "source": [
    "# Log Data"
   ]
  },
  {
   "cell_type": "code",
   "execution_count": 31,
   "metadata": {
    "collapsed": false,
    "deletable": true,
    "editable": true,
    "scrolled": false
   },
   "outputs": [
    {
     "name": "stderr",
     "output_type": "stream",
     "text": [
      "/usr/local/lib/python2.7/dist-packages/ipykernel/__main__.py:17: RuntimeWarning: divide by zero encountered in double_scalars\n"
     ]
    }
   ],
   "source": [
    "# TrainingLog_ErrorRates = map(lambda lamb: LogReg_ErrorRate(xtrainLog,ytrain,xtrainLog,ytrain,lamb), lambdas)\n",
    "TrainingLog_ErrorRates = []\n",
    "valid_lambdas = []\n",
    "invalid_lambdas = []\n",
    "for lamb in lambdas:\n",
    "    try:\n",
    "        TrainingLog_ErrorRates.append(LogReg_ErrorRate(xtrainLog,ytrain,xtrainLog,ytrain,lamb))\n",
    "        valid_lambdas.append(lamb)\n",
    "    except:\n",
    "        invalid_lambdas.append(lamb)\n",
    "        pass"
   ]
  },
  {
   "cell_type": "code",
   "execution_count": 32,
   "metadata": {
    "collapsed": false,
    "deletable": true,
    "editable": true
   },
   "outputs": [],
   "source": [
    "# np.savetxt('LogisticRegression_TrainingLogErrorRates',zip(valid_lambdas,TrainingLog_ErrorRates),header='lambdas\\tTrainingLog_ErrorRate')"
   ]
  },
  {
   "cell_type": "code",
   "execution_count": 33,
   "metadata": {
    "collapsed": false,
    "deletable": true,
    "editable": true
   },
   "outputs": [],
   "source": [
    "# valid_lambdas,TrainingLog_ErrorRates = np.loadtxt('LogisticRegression_TrainingLogErrorRates').T"
   ]
  },
  {
   "cell_type": "code",
   "execution_count": 34,
   "metadata": {
    "collapsed": false,
    "deletable": true,
    "editable": true
   },
   "outputs": [
    {
     "data": {
      "image/png": "[encoded data removed]",
      "text/plain": [
       "<matplotlib.figure.Figure at 0x7f6e92b9e3d0>"
      ]
     },
     "metadata": {},
     "output_type": "display_data"
    }
   ],
   "source": [
    "plt.figure()\n",
    "plt.title('error rates for Log-normed Training data')\n",
    "plt.plot(valid_lambdas, np.array(TrainingLog_ErrorRates)*100)\n",
    "plt.xlabel('lambda')\n",
    "plt.ylabel('error rate (%)')\n",
    "plt.show()"
   ]
  },
  {
   "cell_type": "code",
   "execution_count": 39,
   "metadata": {
    "collapsed": false,
    "deletable": true,
    "editable": true
   },
   "outputs": [
    {
     "name": "stderr",
     "output_type": "stream",
     "text": [
      "/usr/local/lib/python2.7/dist-packages/ipykernel/__main__.py:17: RuntimeWarning: divide by zero encountered in double_scalars\n"
     ]
    },
    {
     "data": {
      "text/plain": [
       "[0.055791190864600326, 0.056443719412724309, 0.064926590538336049]"
      ]
     },
     "execution_count": 39,
     "metadata": {},
     "output_type": "execute_result"
    }
   ],
   "source": [
    "# Error rates for training data for lambda = 1,10,100\n",
    "map(lambda lamb: LogReg_ErrorRate(xtrainLog,ytrain,xtrainLog,ytrain,lamb), [1,10,100])"
   ]
  },
  {
   "cell_type": "code",
   "execution_count": 13,
   "metadata": {
    "collapsed": false,
    "deletable": true,
    "editable": true,
    "scrolled": false
   },
   "outputs": [
    {
     "name": "stderr",
     "output_type": "stream",
     "text": [
      "/usr/local/lib/python2.7/dist-packages/ipykernel/__main__.py:17: RuntimeWarning: divide by zero encountered in double_scalars\n"
     ]
    }
   ],
   "source": [
    "# TestingLog_ErrorRates = map(lambda lamb: LogReg_ErrorRate(xtrainLog,ytrain,xtrainLog,ytrain,lamb), lambdas)\n",
    "TestingLog_ErrorRates = []\n",
    "valid_lambdas = []\n",
    "invalid_lambdas = []\n",
    "for lamb in lambdas:\n",
    "    try:\n",
    "        TestingLog_ErrorRates.append(LogReg_ErrorRate(xtestLog,ytest,xtrainLog,ytrain,lamb))\n",
    "        valid_lambdas.append(lamb)\n",
    "    except:\n",
    "        invalid_lambdas.append(lamb)\n",
    "        pass"
   ]
  },
  {
   "cell_type": "code",
   "execution_count": 35,
   "metadata": {
    "collapsed": false,
    "deletable": true,
    "editable": true
   },
   "outputs": [],
   "source": [
    "# np.savetxt('LogisticRegression_TestingLogErrorRates',zip(valid_lambdas,TestingLog_ErrorRates),header='lambdas\\tTestingLog_ErrorRate')"
   ]
  },
  {
   "cell_type": "code",
   "execution_count": 36,
   "metadata": {
    "collapsed": true,
    "deletable": true,
    "editable": true
   },
   "outputs": [],
   "source": [
    "# valid_lambdas,TestingLog_ErrorRates = np.loadtxt('LogisticRegression_TestingLogErrorRates').T"
   ]
  },
  {
   "cell_type": "code",
   "execution_count": 37,
   "metadata": {
    "collapsed": false,
    "deletable": true,
    "editable": true
   },
   "outputs": [
    {
     "data": {
      "image/png": "[encoded data removed]",
      "text/plain": [
       "<matplotlib.figure.Figure at 0x7f6e92c9f9d0>"
      ]
     },
     "metadata": {},
     "output_type": "display_data"
    }
   ],
   "source": [
    "plt.figure()\n",
    "plt.title('error rates for Log-normed Testing data')\n",
    "plt.plot(valid_lambdas, np.array(TestingLog_ErrorRates)*100)\n",
    "plt.xlabel('lambda')\n",
    "plt.ylabel('error rate (%)')\n",
    "plt.show()"
   ]
  },
  {
   "cell_type": "code",
   "execution_count": 38,
   "metadata": {
    "collapsed": false,
    "deletable": true,
    "editable": true
   },
   "outputs": [
    {
     "name": "stderr",
     "output_type": "stream",
     "text": [
      "/usr/local/lib/python2.7/dist-packages/ipykernel/__main__.py:17: RuntimeWarning: divide by zero encountered in double_scalars\n"
     ]
    },
    {
     "data": {
      "text/plain": [
       "[0.05078125, 0.053385416666666664, 0.065104166666666671]"
      ]
     },
     "execution_count": 38,
     "metadata": {},
     "output_type": "execute_result"
    }
   ],
   "source": [
    "# Error rates for testing data for lambda = 1,10,100\n",
    "map(lambda lamb: LogReg_ErrorRate(xtestLog,ytest,xtrainLog,ytrain,lamb), [1,10,100])"
   ]
  },
  {
   "cell_type": "code",
   "execution_count": 40,
   "metadata": {
    "collapsed": false,
    "deletable": true,
    "editable": true
   },
   "outputs": [
    {
     "name": "stderr",
     "output_type": "stream",
     "text": [
      "/usr/local/lib/python2.7/dist-packages/IPython/html.py:14: ShimWarning: The `IPython.html` package has been deprecated since IPython 4.0. You should import from `notebook` instead. `IPython.html.widgets` has moved to `ipywidgets`.\n",
      "  \"`IPython.html.widgets` has moved to `ipywidgets`.\", ShimWarning)\n"
     ]
    }
   ],
   "source": [
    "import seaborn"
   ]
  },
  {
   "cell_type": "code",
   "execution_count": 52,
   "metadata": {
    "collapsed": false,
    "deletable": true,
    "editable": true
   },
   "outputs": [
    {
     "data": {
      "image/png": "[encoded data removed]",
      "text/plain": [
       "<matplotlib.figure.Figure at 0x7f6e8e29d890>"
      ]
     },
     "metadata": {},
     "output_type": "display_data"
    }
   ],
   "source": [
    "plt.figure(figsize=(10,5))\n",
    "plt.plot(valid_lambdas, np.array(TrainingLog_ErrorRates)*100, ls = '--', color = 'r', label='Log(train)')\n",
    "plt.plot(valid_lambdas, np.array(TestingLog_ErrorRates)*100, color = 'r', label='Log(test)')\n",
    "\n",
    "plt.plot(lambdas, np.array(TrainingZ_ErrorRates)*100, ls = '--', color = 'g', label='Z(train)')\n",
    "plt.plot(lambdas, np.array(TestingZ_ErrorRates)*100, color = 'g', label='Z(test)')\n",
    "\n",
    "plt.plot(lambdas, np.array(TrainingBin_ErrorRates)*100, ls = '--', color = 'b', label='Bin(training)')\n",
    "plt.plot(lambdas, np.array(TestingBin_ErrorRates)*100, color = 'b', label='Bin(test)')\n",
    "\n",
    "plt.xlabel('lambda')\n",
    "plt.ylabel('error rate (%)')\n",
    "plt.ylim(5,10)\n",
    "plt.legend(loc='best')\n",
    "plt.show()"
   ]
  },
  {
   "cell_type": "code",
   "execution_count": null,
   "metadata": {
    "collapsed": true,
    "deletable": true,
    "editable": true
   },
   "outputs": [],
   "source": []
  }
 ],
 "metadata": {
  "kernelspec": {
   "display_name": "Python 2",
   "language": "python",
   "name": "python2"
  },
  "language_info": {
   "codemirror_mode": {
    "name": "ipython",
    "version": 2
   },
   "file_extension": ".py",
   "mimetype": "text/x-python",
   "name": "python",
   "nbconvert_exporter": "python",
   "pygments_lexer": "ipython2",
   "version": "2.7.12"
  }
 },
 "nbformat": 4,
 "nbformat_minor": 2
}
