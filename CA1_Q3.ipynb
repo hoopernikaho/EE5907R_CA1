{
 "cells": [
  {
   "cell_type": "markdown",
   "metadata": {},
   "source": [
    "# EE5907 Programming Assignment Q3\n",
    "Lee Jianwei\n",
    "A0018867"
   ]
  },
  {
   "cell_type": "code",
   "execution_count": 1,
   "metadata": {
    "collapsed": true
   },
   "outputs": [],
   "source": [
    "from __future__ import division\n",
    "import scipy.io\n",
    "from scipy.stats import norm\n",
    "import numpy as np\n",
    "import matplotlib.pyplot as plt\n",
    "\n",
    "from multiprocessing import Pool\n",
    "np.set_printoptions(precision=2, suppress=True)"
   ]
  },
  {
   "cell_type": "markdown",
   "metadata": {},
   "source": [
    "# Load Data"
   ]
  },
  {
   "cell_type": "code",
   "execution_count": 2,
   "metadata": {
    "collapsed": true
   },
   "outputs": [],
   "source": [
    "d = scipy.io.loadmat('spamData.mat')\n",
    "ytest = d['ytest'].flatten()\n",
    "ytrain = d['ytrain'].flatten()\n",
    "xtest = d['Xtest']\n",
    "xtrain = d['Xtrain']"
   ]
  },
  {
   "cell_type": "code",
   "execution_count": 3,
   "metadata": {
    "collapsed": true
   },
   "outputs": [],
   "source": [
    "def binarize(array):\n",
    "    \"\"\"array: list of emails, each 57 features long\"\"\"\n",
    "    return np.array([x>0 for x in array]).astype('uint8')\n",
    "xtrainBin = binarize(xtrain)\n",
    "xtestBin = binarize(xtest)"
   ]
  },
  {
   "cell_type": "code",
   "execution_count": 4,
   "metadata": {
    "collapsed": true
   },
   "outputs": [],
   "source": [
    "#z-normalise features\n",
    "def znorm1D(array1D):\n",
    "    m = np.mean(array1D)\n",
    "    s = np.std(array1D)\n",
    "    return np.array((array1D-m)/s)\n",
    "def znorm2D(array2D):\n",
    "    \"\"\"znorm along columns of 2D array\"\"\"\n",
    "    znormed_columns = np.array([znorm1D(c) for c in array2D.T]) # each column in array2D is a row (called c) in array2D.T\n",
    "    return znormed_columns.T\n",
    "xtrainZ = znorm2D(xtrain)\n",
    "xtestZ = znorm2D(xtest)"
   ]
  },
  {
   "cell_type": "code",
   "execution_count": 6,
   "metadata": {
    "collapsed": true
   },
   "outputs": [],
   "source": [
    "#log-transform features\n",
    "def log2D(array):\n",
    "    \"\"\"array: list of emails, each 57 features long\"\"\"\n",
    "    return np.array([np.log(x+0.1) for x in array]).astype('uint8') #x is a 57 element array\n",
    "xtrainLog = log2D(xtrain)\n",
    "xtestLog = log2D(xtest)"
   ]
  },
  {
   "cell_type": "code",
   "execution_count": 7,
   "metadata": {
    "collapsed": true
   },
   "outputs": [],
   "source": [
    "classMLE = np.average(ytrain)"
   ]
  },
  {
   "cell_type": "code",
   "execution_count": null,
   "metadata": {
    "collapsed": true
   },
   "outputs": [],
   "source": []
  }
 ],
 "metadata": {
  "kernelspec": {
   "display_name": "Python 2",
   "language": "python",
   "name": "python2"
  },
  "language_info": {
   "codemirror_mode": {
    "name": "ipython",
    "version": 2
   },
   "file_extension": ".py",
   "mimetype": "text/x-python",
   "name": "python",
   "nbconvert_exporter": "python",
   "pygments_lexer": "ipython2",
   "version": "2.7.12"
  }
 },
 "nbformat": 4,
 "nbformat_minor": 2
}
