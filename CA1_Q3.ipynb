{
 "cells": [
  {
   "cell_type": "markdown",
   "metadata": {
    "deletable": true,
    "editable": true
   },
   "source": [
    "# EE5907 Programming Assignment Q3\n",
    "Lee Jianwei\n",
    "A0018867"
   ]
  },
  {
   "cell_type": "code",
   "execution_count": 1,
   "metadata": {
    "collapsed": true,
    "deletable": true,
    "editable": true
   },
   "outputs": [],
   "source": [
    "from __future__ import division\n",
    "import scipy.io\n",
    "from scipy.stats import norm\n",
    "import numpy as np\n",
    "import matplotlib.pyplot as plt\n",
    "\n",
    "from multiprocessing import Pool\n",
    "np.set_printoptions(precision=2, suppress=True)"
   ]
  },
  {
   "cell_type": "markdown",
   "metadata": {
    "deletable": true,
    "editable": true
   },
   "source": [
    "# Load Data"
   ]
  },
  {
   "cell_type": "code",
   "execution_count": 2,
   "metadata": {
    "collapsed": false,
    "deletable": true,
    "editable": true
   },
   "outputs": [],
   "source": [
    "d = scipy.io.loadmat('spamData.mat')\n",
    "ytest = d['ytest'].flatten()\n",
    "ytrain = d['ytrain'].flatten()\n",
    "xtest = d['Xtest']\n",
    "xtrain = d['Xtrain']"
   ]
  },
  {
   "cell_type": "code",
   "execution_count": 3,
   "metadata": {
    "collapsed": true,
    "deletable": true,
    "editable": true
   },
   "outputs": [],
   "source": [
    "def binarize(array):\n",
    "    \"\"\"array: list of emails, each 57 features long\"\"\"\n",
    "    return np.array([x>0 for x in array]).astype('uint8')\n",
    "xtrainBin = binarize(xtrain)\n",
    "xtestBin = binarize(xtest)"
   ]
  },
  {
   "cell_type": "code",
   "execution_count": 4,
   "metadata": {
    "collapsed": true,
    "deletable": true,
    "editable": true
   },
   "outputs": [],
   "source": [
    "#z-normalise features\n",
    "def znorm1D(array1D):\n",
    "    m = np.mean(array1D)\n",
    "    s = np.std(array1D)\n",
    "    return np.array((array1D-m)/s)\n",
    "def znorm2D(array2D):\n",
    "    \"\"\"znorm along columns of 2D array\"\"\"\n",
    "    znormed_columns = np.array([znorm1D(c) for c in array2D.T]) # each column in array2D is a row (called c) in array2D.T\n",
    "    return znormed_columns.T\n",
    "xtrainZ = znorm2D(xtrain)\n",
    "xtestZ = znorm2D(xtest)"
   ]
  },
  {
   "cell_type": "code",
   "execution_count": 5,
   "metadata": {
    "collapsed": true,
    "deletable": true,
    "editable": true
   },
   "outputs": [],
   "source": [
    "#log-transform features\n",
    "def log2D(array):\n",
    "    \"\"\"array: list of emails, each 57 features long\"\"\"\n",
    "    return np.array([np.log(x+0.1) for x in array]).astype('uint8') #x is a 57 element array\n",
    "xtrainLog = log2D(xtrain)\n",
    "xtestLog = log2D(xtest)"
   ]
  },
  {
   "cell_type": "code",
   "execution_count": 6,
   "metadata": {
    "collapsed": true,
    "deletable": true,
    "editable": true
   },
   "outputs": [],
   "source": [
    "classMLE = np.average(ytrain)"
   ]
  },
  {
   "cell_type": "code",
   "execution_count": 7,
   "metadata": {
    "collapsed": true,
    "deletable": true,
    "editable": true
   },
   "outputs": [],
   "source": [
    "def sigmoid(x):\n",
    "    return 1/(1 + np.exp(-x))"
   ]
  },
  {
   "cell_type": "code",
   "execution_count": 8,
   "metadata": {
    "collapsed": true,
    "deletable": true,
    "editable": true
   },
   "outputs": [],
   "source": [
    "def reg_params(x_array2D, y_array1D, w, lamb):\n",
    "    \"\"\"returns NLL, g, H\"\"\"\n",
    "    N_features = x_array2D.shape[1] # number of features per mail: default is 57\n",
    "    x_array2D = np.insert(x_array2D,0,1,axis=1) # modify feature list to include a 1 at the start\n",
    "\n",
    "    mu = sigmoid(np.dot(x_array2D, w)) # array1D of mus, one for each email\n",
    "    NLL = -np.sum([y*np.log(m) + (1-y)*np.log(1-m) for y,m in zip (y_array1D, mu)])\n",
    "    g = np.dot(x_array2D.T,(mu-y_array1D))\n",
    "    S = np.diag(mu*(1-mu))\n",
    "    H = np.dot(x_array2D.T, np.dot(S, x_array2D))\n",
    "    \n",
    "    NLL_reg = NLL + 0.5*lamb*np.inner(w[1:],w[1:])\n",
    "    g_reg = g + np.insert(lamb*w[1:],0,0) # first element of g is unregularised\n",
    "    H_reg = H + np.diag(np.insert(lamb*np.ones(N_features),0,0)) # first diagonal element is unregularised\n",
    "    \n",
    "#     print x_array2D\n",
    "#     print mu\n",
    "    \n",
    "    return NLL_reg, g_reg, H_reg\n"
   ]
  },
  {
   "cell_type": "code",
   "execution_count": 9,
   "metadata": {
    "collapsed": false,
    "deletable": true,
    "editable": true
   },
   "outputs": [
    {
     "name": "stderr",
     "output_type": "stream",
     "text": [
      "/usr/local/lib/python2.7/dist-packages/ipykernel/__main__.py:7: RuntimeWarning: divide by zero encountered in log\n",
      "/usr/local/lib/python2.7/dist-packages/ipykernel/__main__.py:7: RuntimeWarning: invalid value encountered in multiply\n"
     ]
    }
   ],
   "source": [
    "NLL_reg, g_reg, H_reg = reg_params(xtrainZ,ytrain,np.ones(58),1)"
   ]
  },
  {
   "cell_type": "code",
   "execution_count": 27,
   "metadata": {
    "collapsed": false,
    "deletable": true,
    "editable": true
   },
   "outputs": [],
   "source": [
    "def omega(x_array2D, y_array1D, lamb):\n",
    "    \"\"\"\n",
    "    this function implements Newton's method for logistic regression to find w which describes the dataset x_array2D, yarray1D\n",
    "    \"\"\"\n",
    "    \"\"\"initialisation\"\"\"\n",
    "    N_features = x_array2D.shape[1]\n",
    "    wInit = np.zeros(N_features+1)\n",
    "    w = wInit\n",
    "    converge = False \n",
    "    counter = 0\n",
    "    try:\n",
    "        while converge==False:\n",
    "            _, g, H = reg_params(x_array2D, y_array1D, w, lamb)\n",
    "            counter += 1\n",
    "            w_new = w - np.dot(np.linalg.inv(np.dot(H.T,H)),np.dot(H.T,g)) # numerically more stable than inv(H).g\n",
    "    #         w_new = w - np.dot(np.linalg.inv(H),g)\n",
    "            error = np.inner(w_new-w,w_new-w)/np.inner(w,w)\n",
    "            if  error < 0.001:\n",
    "                \"\"\"arbitrary error threshold set to 0.1%\"\"\"\n",
    "                converge = True\n",
    "            else:\n",
    "                w = w_new\n",
    "        return w_new\n",
    "    except:\n",
    "        print ('lambda = {}\\n iteration = {}\\n w_new-w = {:.5f}%\\n, g = {}\\n H = {}\\n'.format(lamb, counter, error*100, g, H))"
   ]
  },
  {
   "cell_type": "code",
   "execution_count": 28,
   "metadata": {
    "collapsed": true
   },
   "outputs": [],
   "source": [
    "def LogReg_ErrorRate(x_array2D, y_array1D, x_training_array2D, y_training_array1D, lamb):\n",
    "    \"\"\"\n",
    "    uses omega to classify an array of emails x_array2D\n",
    "    compares results with y_array1D to check for error rate\n",
    "    \"\"\"\n",
    "    w = omega(x_training_array2D,y_training_array1D,lamb)\n",
    "    category = sigmoid(w[0]+np.dot(x_array2D, w[1:]))>0.5\n",
    "    category_error = np.logical_xor(category,y_array1D)\n",
    "    error_rate =  np.sum(category_error)/len(y_array1D)\n",
    "    return error_rate"
   ]
  },
  {
   "cell_type": "code",
   "execution_count": 29,
   "metadata": {
    "collapsed": false
   },
   "outputs": [
    {
     "name": "stdout",
     "output_type": "stream",
     "text": [
      "[  1   2   3   4   5   6   7   8   9  10  15  20  25  30  35  40  45  50\n",
      "  55  60  65  70  75  80  85  90  95 100]\n"
     ]
    }
   ],
   "source": [
    "lambdas = np.insert(np.arange(15,105,5),0,np.arange(1,11,1))\n",
    "print lambdas"
   ]
  },
  {
   "cell_type": "markdown",
   "metadata": {},
   "source": [
    "# Binarised Data"
   ]
  },
  {
   "cell_type": "code",
   "execution_count": 27,
   "metadata": {
    "collapsed": false,
    "deletable": true,
    "editable": true
   },
   "outputs": [
    {
     "name": "stderr",
     "output_type": "stream",
     "text": [
      "/usr/local/lib/python2.7/dist-packages/ipykernel/__main__.py:17: RuntimeWarning: divide by zero encountered in double_scalars\n"
     ]
    }
   ],
   "source": [
    "TrainingBin_ErrorRates = map(lambda lamb: LogReg_ErrorRate(xtrainBin,ytrain,xtrainBin,ytrain,lamb), lambdas)"
   ]
  },
  {
   "cell_type": "code",
   "execution_count": 34,
   "metadata": {
    "collapsed": true
   },
   "outputs": [],
   "source": [
    "np.savetxt('LogisticRegression_TrainingBinErrorRates',zip(lambdas,TrainingBin_ErrorRates),header='lambdas\\tTrainingBin_ErrorRate')"
   ]
  },
  {
   "cell_type": "code",
   "execution_count": 35,
   "metadata": {
    "collapsed": false,
    "deletable": true,
    "editable": true
   },
   "outputs": [
    {
     "data": {
      "image/png": "[encoded data removed]",
      "text/plain": [
       "<matplotlib.figure.Figure at 0x7f0afab07e90>"
      ]
     },
     "metadata": {},
     "output_type": "display_data"
    }
   ],
   "source": [
    "plt.figure()\n",
    "plt.title('error rates for binarised training data')\n",
    "plt.plot(lambdas, np.array(Training_ErrorRates)*100)\n",
    "plt.xlabel('lambda')\n",
    "plt.ylabel('error rate (%)')\n",
    "plt.show()"
   ]
  },
  {
   "cell_type": "code",
   "execution_count": 38,
   "metadata": {
    "collapsed": false
   },
   "outputs": [
    {
     "name": "stderr",
     "output_type": "stream",
     "text": [
      "/usr/local/lib/python2.7/dist-packages/ipykernel/__main__.py:17: RuntimeWarning: divide by zero encountered in double_scalars\n"
     ]
    },
    {
     "data": {
      "text/plain": [
       "[0.064274061990212072, 0.066884176182707991, 0.093964110929853184]"
      ]
     },
     "execution_count": 38,
     "metadata": {},
     "output_type": "execute_result"
    }
   ],
   "source": [
    "# Error rates for training data for lambda = 1,10,100\n",
    "map(lambda lamb: LogReg_ErrorRate(xtrainBin,ytrain,xtrainBin,ytrain,lamb), [1,10,100])"
   ]
  },
  {
   "cell_type": "code",
   "execution_count": 38,
   "metadata": {
    "collapsed": false,
    "scrolled": true
   },
   "outputs": [
    {
     "name": "stderr",
     "output_type": "stream",
     "text": [
      "/usr/local/lib/python2.7/dist-packages/ipykernel/__main__.py:17: RuntimeWarning: divide by zero encountered in double_scalars\n"
     ]
    }
   ],
   "source": [
    "TestingBin_ErrorRates = map(lambda lamb: LogReg_ErrorRate(xtestBin,ytest,xtrainBin,ytrain,lamb), lambdas)"
   ]
  },
  {
   "cell_type": "code",
   "execution_count": 39,
   "metadata": {
    "collapsed": true
   },
   "outputs": [],
   "source": [
    "np.savetxt('LogisticRegression_TestingBinErrorRates',zip(lambdas,TestingBin_ErrorRates),header='lambdas\\tTestingBin_ErrorRate')"
   ]
  },
  {
   "cell_type": "code",
   "execution_count": 42,
   "metadata": {
    "collapsed": false
   },
   "outputs": [
    {
     "data": {
      "image/png": "[encoded data removed]",
      "text/plain": [
       "<matplotlib.figure.Figure at 0x7f0afa998d50>"
      ]
     },
     "metadata": {},
     "output_type": "display_data"
    }
   ],
   "source": [
    "plt.figure()\n",
    "plt.title('error rates for binarised testing data')\n",
    "plt.plot(lambdas, np.array(TestingBin_ErrorRates)*100)\n",
    "plt.xlabel('lambda')\n",
    "plt.ylabel('error rate (%)')\n",
    "plt.show()"
   ]
  },
  {
   "cell_type": "code",
   "execution_count": 39,
   "metadata": {
    "collapsed": false
   },
   "outputs": [
    {
     "name": "stderr",
     "output_type": "stream",
     "text": [
      "/usr/local/lib/python2.7/dist-packages/ipykernel/__main__.py:17: RuntimeWarning: divide by zero encountered in double_scalars\n"
     ]
    },
    {
     "data": {
      "text/plain": [
       "[0.073567708333333329, 0.076822916666666671, 0.096354166666666671]"
      ]
     },
     "execution_count": 39,
     "metadata": {},
     "output_type": "execute_result"
    }
   ],
   "source": [
    "# Error rates for testing data for lambda = 1,10,100\n",
    "map(lambda lamb: LogReg_ErrorRate(xtestBin,ytest,xtrainBin,ytrain,lamb), [1,10,100])"
   ]
  },
  {
   "cell_type": "markdown",
   "metadata": {},
   "source": [
    "# Z-normed Data"
   ]
  },
  {
   "cell_type": "code",
   "execution_count": 46,
   "metadata": {
    "collapsed": false,
    "deletable": true,
    "editable": true,
    "scrolled": true
   },
   "outputs": [
    {
     "name": "stderr",
     "output_type": "stream",
     "text": [
      "/usr/local/lib/python2.7/dist-packages/ipykernel/__main__.py:17: RuntimeWarning: divide by zero encountered in double_scalars\n",
      "/usr/local/lib/python2.7/dist-packages/ipykernel/__main__.py:7: RuntimeWarning: divide by zero encountered in log\n",
      "/usr/local/lib/python2.7/dist-packages/ipykernel/__main__.py:7: RuntimeWarning: invalid value encountered in multiply\n"
     ]
    }
   ],
   "source": [
    "TrainingZ_ErrorRates = map(lambda lamb: LogReg_ErrorRate(xtrainZ,ytrain,xtrainZ,ytrain,lamb), lambdas)"
   ]
  },
  {
   "cell_type": "code",
   "execution_count": 47,
   "metadata": {
    "collapsed": true,
    "deletable": true,
    "editable": true
   },
   "outputs": [],
   "source": [
    "np.savetxt('LogisticRegression_TrainingZErrorRates',zip(lambdas,TrainingZ_ErrorRates),header='lambdas\\tTrainingZ_ErrorRate')"
   ]
  },
  {
   "cell_type": "code",
   "execution_count": 48,
   "metadata": {
    "collapsed": false,
    "deletable": true,
    "editable": true
   },
   "outputs": [
    {
     "data": {
      "image/png": "[encoded data removed]",
      "text/plain": [
       "<matplotlib.figure.Figure at 0x7f0afacc93d0>"
      ]
     },
     "metadata": {},
     "output_type": "display_data"
    }
   ],
   "source": [
    "plt.figure()\n",
    "plt.title('error rates for Z-normed Training data')\n",
    "plt.plot(lambdas, np.array(TrainingZ_ErrorRates)*100)\n",
    "plt.xlabel('lambda')\n",
    "plt.ylabel('error rate (%)')\n",
    "plt.show()"
   ]
  },
  {
   "cell_type": "code",
   "execution_count": 40,
   "metadata": {
    "collapsed": false
   },
   "outputs": [
    {
     "name": "stderr",
     "output_type": "stream",
     "text": [
      "/usr/local/lib/python2.7/dist-packages/ipykernel/__main__.py:17: RuntimeWarning: divide by zero encountered in double_scalars\n",
      "/usr/local/lib/python2.7/dist-packages/ipykernel/__main__.py:7: RuntimeWarning: divide by zero encountered in log\n",
      "/usr/local/lib/python2.7/dist-packages/ipykernel/__main__.py:7: RuntimeWarning: invalid value encountered in multiply\n"
     ]
    },
    {
     "data": {
      "text/plain": [
       "[0.076345840130505715, 0.081566068515497553, 0.096574225122349103]"
      ]
     },
     "execution_count": 40,
     "metadata": {},
     "output_type": "execute_result"
    }
   ],
   "source": [
    "# Error rates for training data for lambda = 1,10,100\n",
    "map(lambda lamb: LogReg_ErrorRate(xtrainZ,ytrain,xtrainZ,ytrain,lamb), [1,10,100])"
   ]
  },
  {
   "cell_type": "code",
   "execution_count": 43,
   "metadata": {
    "collapsed": false,
    "deletable": true,
    "editable": true,
    "scrolled": true
   },
   "outputs": [
    {
     "name": "stderr",
     "output_type": "stream",
     "text": [
      "/usr/local/lib/python2.7/dist-packages/ipykernel/__main__.py:17: RuntimeWarning: divide by zero encountered in double_scalars\n",
      "/usr/local/lib/python2.7/dist-packages/ipykernel/__main__.py:7: RuntimeWarning: divide by zero encountered in log\n",
      "/usr/local/lib/python2.7/dist-packages/ipykernel/__main__.py:7: RuntimeWarning: invalid value encountered in multiply\n"
     ]
    }
   ],
   "source": [
    "TestingZ_ErrorRates = map(lambda lamb: LogReg_ErrorRate(xtestZ,ytest,xtrainZ,ytrain,lamb), lambdas)"
   ]
  },
  {
   "cell_type": "code",
   "execution_count": 44,
   "metadata": {
    "collapsed": true,
    "deletable": true,
    "editable": true
   },
   "outputs": [],
   "source": [
    "np.savetxt('LogisticRegression_TestingZErrorRates',zip(lambdas,TestingZ_ErrorRates),header='lambdas\\tTestingZ_ErrorRate')"
   ]
  },
  {
   "cell_type": "code",
   "execution_count": 49,
   "metadata": {
    "collapsed": false,
    "deletable": true,
    "editable": true
   },
   "outputs": [
    {
     "data": {
      "image/png": "[encoded data removed]",
      "text/plain": [
       "<matplotlib.figure.Figure at 0x7f0afce75110>"
      ]
     },
     "metadata": {},
     "output_type": "display_data"
    }
   ],
   "source": [
    "plt.figure()\n",
    "plt.title('error rates for Z-normed testing data')\n",
    "plt.plot(lambdas, np.array(TestingZ_ErrorRates)*100)\n",
    "plt.xlabel('lambda')\n",
    "plt.ylabel('error rate (%)')\n",
    "plt.show()"
   ]
  },
  {
   "cell_type": "code",
   "execution_count": 41,
   "metadata": {
    "collapsed": false
   },
   "outputs": [
    {
     "name": "stderr",
     "output_type": "stream",
     "text": [
      "/usr/local/lib/python2.7/dist-packages/ipykernel/__main__.py:17: RuntimeWarning: divide by zero encountered in double_scalars\n",
      "/usr/local/lib/python2.7/dist-packages/ipykernel/__main__.py:7: RuntimeWarning: divide by zero encountered in log\n",
      "/usr/local/lib/python2.7/dist-packages/ipykernel/__main__.py:7: RuntimeWarning: invalid value encountered in multiply\n"
     ]
    },
    {
     "data": {
      "text/plain": [
       "[0.068359375, 0.071614583333333329, 0.085286458333333329]"
      ]
     },
     "execution_count": 41,
     "metadata": {},
     "output_type": "execute_result"
    }
   ],
   "source": [
    "# Error rates for testing data for lambda = 1,10,100\n",
    "map(lambda lamb: LogReg_ErrorRate(xtestZ,ytest,xtrainZ,ytrain,lamb), [1,10,100])"
   ]
  },
  {
   "cell_type": "markdown",
   "metadata": {},
   "source": [
    "# Log Data"
   ]
  },
  {
   "cell_type": "code",
   "execution_count": 30,
   "metadata": {
    "collapsed": false,
    "deletable": true,
    "editable": true,
    "scrolled": false
   },
   "outputs": [
    {
     "name": "stderr",
     "output_type": "stream",
     "text": [
      "/usr/local/lib/python2.7/dist-packages/ipykernel/__main__.py:17: RuntimeWarning: divide by zero encountered in double_scalars\n",
      "/usr/local/lib/python2.7/dist-packages/ipykernel/__main__.py:7: RuntimeWarning: divide by zero encountered in log\n",
      "/usr/local/lib/python2.7/dist-packages/ipykernel/__main__.py:2: RuntimeWarning: overflow encountered in exp\n",
      "  from ipykernel import kernelapp as app\n",
      "/usr/local/lib/python2.7/dist-packages/ipykernel/__main__.py:7: RuntimeWarning: invalid value encountered in multiply\n"
     ]
    },
    {
     "name": "stdout",
     "output_type": "stream",
     "text": [
      "lambda = 5\n",
      " iteration = 15\n",
      " w_new-w = 1579.31781%\n",
      ", g = [    44.   -24727.97 -12075.81  -7324.19   7382.99  -2136.47  19279.71\n",
      "   1570.51  -6010.68 -35303.36 -29220.89   -965.89 -70641.78   6448.01\n",
      "  11441.15  13251.03  33201.57 -10262.88  21185.04 -22560.66   3597.36\n",
      " -23397.61   4860.06  -2222.18  -5716.21  -1821.91  18050.23   4838.57\n",
      "  16019.56   6879.33   8397.39   7118.01   9405.36 -34544.07   9150.1\n",
      "  14744.49  11936.4   47943.24   7381.3  -32489.54   3574.36  29705.94\n",
      "   6029.38  14997.54  -8816.78  80102.7   45293.23  12965.27  21067.95\n",
      "  10484.8   27260.78  15753.87 -81277.2   -7100.01    281.61    478.84\n",
      "    563.92    588.54]\n",
      " H = [[ 0.  0.  0. ...,  0.  0.  0.]\n",
      " [ 0.  5.  0. ...,  0.  0.  0.]\n",
      " [ 0.  0.  5. ...,  0.  0.  0.]\n",
      " ..., \n",
      " [ 0.  0.  0. ...,  5.  0.  0.]\n",
      " [ 0.  0.  0. ...,  0.  5.  0.]\n",
      " [ 0.  0.  0. ...,  0.  0.  5.]]\n",
      "\n",
      "lambda = 50\n",
      " iteration = 15\n",
      " w_new-w = 291903186758369029059961826031931702944496117884081303758395004391855436981980551522072463237185536.00000%\n",
      ", g = [  -1195.   -229800.   -220883.   -119756.21 -298723.   -125613.   -249313.79\n",
      " -219364.   -230005.   -240139.   -170829.   -244762.   -130104.   -251305.79\n",
      " -281490.   -273114.   -163228.21 -217305.   -203830.21  -25123.92 -263770.\n",
      "  -55805.   -290896.13 -216991.   -220617.   -283489.   -290334.   -301248.\n",
      " -301503.   -301758.   -299981.   -302771.   -303023.   -296943.   -302772.\n",
      " -301016.   -295183.   -275136.21 -300492.   -291864.   -286077.   -295919.\n",
      " -300494.   -297236.   -297202.   -257151.79 -261933.   -301504.   -302525.\n",
      " -297793.   -277549.92 -302084.   -146162.   -252948.92 -289764.92\n",
      "   -1009.92   -3850.85   -5898.85]\n",
      " H = [[  0.   0.   0. ...,   0.   0.   0.]\n",
      " [  0.  50.   0. ...,   0.   0.   0.]\n",
      " [  0.   0.  50. ...,   0.   0.   0.]\n",
      " ..., \n",
      " [  0.   0.   0. ...,  50.   0.   0.]\n",
      " [  0.   0.   0. ...,   0.  50.   0.]\n",
      " [  0.   0.   0. ...,   0.   0.  50.]]\n",
      "\n"
     ]
    }
   ],
   "source": [
    "# TrainingLog_ErrorRates = map(lambda lamb: LogReg_ErrorRate(xtrainLog,ytrain,xtrainLog,ytrain,lamb), lambdas)\n",
    "TrainingLog_ErrorRates = []\n",
    "valid_lambdas = []\n",
    "invalid_lambdas = []\n",
    "for lamb in lambdas:\n",
    "    try:\n",
    "        TrainingLog_ErrorRates.append(LogReg_ErrorRate(xtrainLog,ytrain,xtrainLog,ytrain,lamb))\n",
    "        valid_lambdas.append(lamb)\n",
    "    except:\n",
    "        invalid_lambdas.append(lamb)\n",
    "        pass"
   ]
  },
  {
   "cell_type": "code",
   "execution_count": 33,
   "metadata": {
    "collapsed": false,
    "deletable": true,
    "editable": true
   },
   "outputs": [],
   "source": [
    "np.savetxt('LogisticRegression_TrainingLogErrorRates',zip(valid_lambdas,TrainingLog_ErrorRates),header='lambdas\\tTrainingLog_ErrorRate')"
   ]
  },
  {
   "cell_type": "code",
   "execution_count": 34,
   "metadata": {
    "collapsed": false,
    "deletable": true,
    "editable": true
   },
   "outputs": [
    {
     "data": {
      "image/png": "[encoded data removed]",
      "text/plain": [
       "<matplotlib.figure.Figure at 0x7f1347cc9cd0>"
      ]
     },
     "metadata": {},
     "output_type": "display_data"
    }
   ],
   "source": [
    "plt.figure()\n",
    "plt.title('error rates for Log-normed Training data')\n",
    "plt.plot(valid_lambdas, np.array(TrainingLog_ErrorRates)*100)\n",
    "plt.xlabel('lambda')\n",
    "plt.ylabel('error rate (%)')\n",
    "plt.show()"
   ]
  },
  {
   "cell_type": "code",
   "execution_count": 42,
   "metadata": {
    "collapsed": false
   },
   "outputs": [
    {
     "name": "stderr",
     "output_type": "stream",
     "text": [
      "/usr/local/lib/python2.7/dist-packages/ipykernel/__main__.py:17: RuntimeWarning: divide by zero encountered in double_scalars\n"
     ]
    },
    {
     "data": {
      "text/plain": [
       "[0.064926590538336049, 0.065905383360522027, 0.065905383360522027]"
      ]
     },
     "execution_count": 42,
     "metadata": {},
     "output_type": "execute_result"
    }
   ],
   "source": [
    "# Error rates for training data for lambda = 1,10,100\n",
    "map(lambda lamb: LogReg_ErrorRate(xtrainLog,ytrain,xtrainLog,ytrain,lamb), [1,10,100])"
   ]
  },
  {
   "cell_type": "code",
   "execution_count": 35,
   "metadata": {
    "collapsed": false,
    "deletable": true,
    "editable": true,
    "scrolled": false
   },
   "outputs": [
    {
     "name": "stderr",
     "output_type": "stream",
     "text": [
      "/usr/local/lib/python2.7/dist-packages/ipykernel/__main__.py:17: RuntimeWarning: divide by zero encountered in double_scalars\n",
      "/usr/local/lib/python2.7/dist-packages/ipykernel/__main__.py:7: RuntimeWarning: divide by zero encountered in log\n",
      "/usr/local/lib/python2.7/dist-packages/ipykernel/__main__.py:2: RuntimeWarning: overflow encountered in exp\n",
      "  from ipykernel import kernelapp as app\n",
      "/usr/local/lib/python2.7/dist-packages/ipykernel/__main__.py:7: RuntimeWarning: invalid value encountered in multiply\n"
     ]
    },
    {
     "name": "stdout",
     "output_type": "stream",
     "text": [
      "lambda = 5\n",
      " iteration = 15\n",
      " w_new-w = 1579.31781%\n",
      ", g = [    44.   -24727.97 -12075.81  -7324.19   7382.99  -2136.47  19279.71\n",
      "   1570.51  -6010.68 -35303.36 -29220.89   -965.89 -70641.78   6448.01\n",
      "  11441.15  13251.03  33201.57 -10262.88  21185.04 -22560.66   3597.36\n",
      " -23397.61   4860.06  -2222.18  -5716.21  -1821.91  18050.23   4838.57\n",
      "  16019.56   6879.33   8397.39   7118.01   9405.36 -34544.07   9150.1\n",
      "  14744.49  11936.4   47943.24   7381.3  -32489.54   3574.36  29705.94\n",
      "   6029.38  14997.54  -8816.78  80102.7   45293.23  12965.27  21067.95\n",
      "  10484.8   27260.78  15753.87 -81277.2   -7100.01    281.61    478.84\n",
      "    563.92    588.54]\n",
      " H = [[ 0.  0.  0. ...,  0.  0.  0.]\n",
      " [ 0.  5.  0. ...,  0.  0.  0.]\n",
      " [ 0.  0.  5. ...,  0.  0.  0.]\n",
      " ..., \n",
      " [ 0.  0.  0. ...,  5.  0.  0.]\n",
      " [ 0.  0.  0. ...,  0.  5.  0.]\n",
      " [ 0.  0.  0. ...,  0.  0.  5.]]\n",
      "\n",
      "lambda = 50\n",
      " iteration = 15\n",
      " w_new-w = 291903186758369029059961826031931702944496117884081303758395004391855436981980551522072463237185536.00000%\n",
      ", g = [  -1195.   -229800.   -220883.   -119756.21 -298723.   -125613.   -249313.79\n",
      " -219364.   -230005.   -240139.   -170829.   -244762.   -130104.   -251305.79\n",
      " -281490.   -273114.   -163228.21 -217305.   -203830.21  -25123.92 -263770.\n",
      "  -55805.   -290896.13 -216991.   -220617.   -283489.   -290334.   -301248.\n",
      " -301503.   -301758.   -299981.   -302771.   -303023.   -296943.   -302772.\n",
      " -301016.   -295183.   -275136.21 -300492.   -291864.   -286077.   -295919.\n",
      " -300494.   -297236.   -297202.   -257151.79 -261933.   -301504.   -302525.\n",
      " -297793.   -277549.92 -302084.   -146162.   -252948.92 -289764.92\n",
      "   -1009.92   -3850.85   -5898.85]\n",
      " H = [[  0.   0.   0. ...,   0.   0.   0.]\n",
      " [  0.  50.   0. ...,   0.   0.   0.]\n",
      " [  0.   0.  50. ...,   0.   0.   0.]\n",
      " ..., \n",
      " [  0.   0.   0. ...,  50.   0.   0.]\n",
      " [  0.   0.   0. ...,   0.  50.   0.]\n",
      " [  0.   0.   0. ...,   0.   0.  50.]]\n",
      "\n"
     ]
    }
   ],
   "source": [
    "# TestingLog_ErrorRates = map(lambda lamb: LogReg_ErrorRate(xtrainLog,ytrain,xtrainLog,ytrain,lamb), lambdas)\n",
    "TestingLog_ErrorRates = []\n",
    "valid_lambdas = []\n",
    "invalid_lambdas = []\n",
    "for lamb in lambdas:\n",
    "    try:\n",
    "        TestingLog_ErrorRates.append(LogReg_ErrorRate(xtestLog,ytest,xtrainLog,ytrain,lamb))\n",
    "        valid_lambdas.append(lamb)\n",
    "    except:\n",
    "        invalid_lambdas.append(lamb)\n",
    "        pass"
   ]
  },
  {
   "cell_type": "code",
   "execution_count": 36,
   "metadata": {
    "collapsed": false,
    "deletable": true,
    "editable": true
   },
   "outputs": [],
   "source": [
    "np.savetxt('LogisticRegression_TestingLogErrorRates',zip(valid_lambdas,TestingLog_ErrorRates),header='lambdas\\tTestingLog_ErrorRate')"
   ]
  },
  {
   "cell_type": "code",
   "execution_count": 37,
   "metadata": {
    "collapsed": false,
    "deletable": true,
    "editable": true
   },
   "outputs": [
    {
     "data": {
      "image/png": "[encoded data removed]",
      "text/plain": [
       "<matplotlib.figure.Figure at 0x7f1347b4fa50>"
      ]
     },
     "metadata": {},
     "output_type": "display_data"
    }
   ],
   "source": [
    "plt.figure()\n",
    "plt.title('error rates for Log-normed Testing data')\n",
    "plt.plot(valid_lambdas, np.array(TestingLog_ErrorRates)*100)\n",
    "plt.xlabel('lambda')\n",
    "plt.ylabel('error rate (%)')\n",
    "plt.show()"
   ]
  },
  {
   "cell_type": "code",
   "execution_count": 43,
   "metadata": {
    "collapsed": false
   },
   "outputs": [
    {
     "name": "stderr",
     "output_type": "stream",
     "text": [
      "/usr/local/lib/python2.7/dist-packages/ipykernel/__main__.py:17: RuntimeWarning: divide by zero encountered in double_scalars\n"
     ]
    },
    {
     "data": {
      "text/plain": [
       "[0.069010416666666671, 0.0703125, 0.069661458333333329]"
      ]
     },
     "execution_count": 43,
     "metadata": {},
     "output_type": "execute_result"
    }
   ],
   "source": [
    "# Error rates for testing data for lambda = 1,10,100\n",
    "map(lambda lamb: LogReg_ErrorRate(xtestLog,ytest,xtrainLog,ytrain,lamb), [1,10,100])"
   ]
  },
  {
   "cell_type": "markdown",
   "metadata": {},
   "source": [
    "# Comments\n",
    "1. The error rates tend to increase with lambda for both binarised and z-normed data, as to be expected as \n",
    "2. The error rates for the Log-normed data tend to span smaller values for Log-normed data, moderate values for z-normed data and has the highest values for binarised data."
   ]
  },
  {
   "cell_type": "code",
   "execution_count": null,
   "metadata": {
    "collapsed": true
   },
   "outputs": [],
   "source": []
  }
 ],
 "metadata": {
  "kernelspec": {
   "display_name": "Python 2",
   "language": "python",
   "name": "python2"
  },
  "language_info": {
   "codemirror_mode": {
    "name": "ipython",
    "version": 2
   },
   "file_extension": ".py",
   "mimetype": "text/x-python",
   "name": "python",
   "nbconvert_exporter": "python",
   "pygments_lexer": "ipython2",
   "version": "2.7.12"
  }
 },
 "nbformat": 4,
 "nbformat_minor": 2
}
