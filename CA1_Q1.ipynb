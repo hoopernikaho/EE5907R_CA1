{
 "cells": [
  {
   "cell_type": "markdown",
   "metadata": {
    "deletable": true,
    "editable": true
   },
   "source": [
    "# EE5907 Programming Assignment Q1\n",
    "Lee Jianwei\n",
    "A0018867"
   ]
  },
  {
   "cell_type": "code",
   "execution_count": 45,
   "metadata": {
    "collapsed": false,
    "deletable": true,
    "editable": true
   },
   "outputs": [],
   "source": [
    "from __future__ import division\n",
    "import scipy.io\n",
    "import numpy as np\n",
    "import matplotlib.pyplot as plt\n",
    "\n",
    "from multiprocessing import Pool\n",
    "np.set_printoptions(precision=2, suppress=True)"
   ]
  },
  {
   "cell_type": "markdown",
   "metadata": {
    "deletable": true,
    "editable": true
   },
   "source": [
    "# Data Processing"
   ]
  },
  {
   "cell_type": "markdown",
   "metadata": {
    "deletable": true,
    "editable": true
   },
   "source": [
    "### Load"
   ]
  },
  {
   "cell_type": "code",
   "execution_count": 2,
   "metadata": {
    "collapsed": false,
    "deletable": true,
    "editable": true
   },
   "outputs": [],
   "source": [
    "d = scipy.io.loadmat('spamData.mat')\n",
    "# print d.items()"
   ]
  },
  {
   "cell_type": "code",
   "execution_count": 3,
   "metadata": {
    "collapsed": false,
    "deletable": true,
    "editable": true
   },
   "outputs": [],
   "source": [
    "ytest = d['ytest'].flatten()\n",
    "ytrain = d['ytrain'].flatten()\n",
    "xtest = d['Xtest']\n",
    "xtrain = d['Xtrain']"
   ]
  },
  {
   "cell_type": "markdown",
   "metadata": {
    "deletable": true,
    "editable": true
   },
   "source": [
    "### Binarize"
   ]
  },
  {
   "cell_type": "code",
   "execution_count": 4,
   "metadata": {
    "collapsed": false,
    "deletable": true,
    "editable": true
   },
   "outputs": [],
   "source": [
    "def binarize(array):\n",
    "    \"\"\"binarise a 1D array according to its sign\"\"\"\n",
    "    return np.array([x>0 for x in array]).astype('uint8')"
   ]
  },
  {
   "cell_type": "code",
   "execution_count": 5,
   "metadata": {
    "collapsed": false,
    "deletable": true,
    "editable": true
   },
   "outputs": [
    {
     "name": "stdout",
     "output_type": "stream",
     "text": [
      "[[0 0 0 ..., 1 1 1]\n",
      " [0 0 0 ..., 1 1 1]\n",
      " [1 1 1 ..., 1 1 1]\n",
      " ..., \n",
      " [0 1 1 ..., 1 1 1]\n",
      " [0 0 0 ..., 1 1 1]\n",
      " [0 0 0 ..., 1 1 1]]\n",
      "(3065, 57)\n",
      "[0 0 1 ..., 0 0 0]\n",
      "57\n"
     ]
    }
   ],
   "source": [
    "xtrainBin = binarize(xtrain)\n",
    "xtestBin = binarize(xtest)\n",
    "print xtrainBin\n",
    "print xtrainBin.shape\n",
    "\n",
    "print xtrainBin[:,0]\n",
    "print len(xtrain[0])"
   ]
  },
  {
   "cell_type": "code",
   "execution_count": 6,
   "metadata": {
    "collapsed": false,
    "deletable": true,
    "editable": true
   },
   "outputs": [
    {
     "name": "stdout",
     "output_type": "stream",
     "text": [
      "(3065, 54)\n"
     ]
    }
   ],
   "source": [
    "# remove last 3 features which doesn't help in the binarized data case\n",
    "xtrainBin = np.delete(xtrainBin,np.s_[-3:],axis=1)\n",
    "xtestBin = np.delete(xtestBin,np.s_[-3:],axis=1)\n",
    "print xtrainBin.shape"
   ]
  },
  {
   "cell_type": "markdown",
   "metadata": {
    "deletable": true,
    "editable": true
   },
   "source": [
    "# Q1"
   ]
  },
  {
   "cell_type": "code",
   "execution_count": 7,
   "metadata": {
    "collapsed": false,
    "deletable": true,
    "editable": true
   },
   "outputs": [
    {
     "name": "stdout",
     "output_type": "stream",
     "text": [
      "0.389885807504\n"
     ]
    }
   ],
   "source": [
    "classMLE = np.average(ytrain)\n",
    "print classMLE"
   ]
  },
  {
   "cell_type": "code",
   "execution_count": 8,
   "metadata": {
    "collapsed": false,
    "deletable": true,
    "editable": true
   },
   "outputs": [],
   "source": [
    "alphas = np.arange(0,100.5,0.5)"
   ]
  },
  {
   "cell_type": "code",
   "execution_count": 9,
   "metadata": {
    "collapsed": false,
    "deletable": true,
    "editable": true
   },
   "outputs": [],
   "source": [
    "def N_feature_trainBin(spam): # N_jc in notes\n",
    "    \"\"\"\n",
    "    returns an array of N's, \n",
    "    each N is the total number of times a binarised feature appears\n",
    "    in the training data\n",
    "    :params spam: either 1 (spam) or 0 \n",
    "    \"\"\"\n",
    "    return np.sum(xtrainBin[ytrain==spam],axis=0)\n",
    "\n",
    "def N_class_train(spam): # N_c in notes\n",
    "    \"\"\"\n",
    "    returns the total number of mails categorised as spam or not.\n",
    "    :params spam: either 1 (spam) or 0 \n",
    "    \"\"\"\n",
    "    return len(ytrain[ytrain==spam])\n",
    "\n",
    "N_feature_trainBin = [N_feature_trainBin(0),N_feature_trainBin(1)]\n",
    "N_class_train = [N_class_train(0), N_class_train(1)]\n",
    "\n",
    "def posterior_predictive_mean(spam, alpha): # theta_jc in notes\n",
    "    \"\"\"\n",
    "    returns an array of posterior predictive means\n",
    "    :params spam: either 1 (spam) or 0 \n",
    "    :params alpha: hyperparameter alpha for beta distribution\n",
    "    \"\"\"\n",
    "    return (N_feature_trainBin[spam]+alpha)/(N_class_train[spam]+2*alpha)"
   ]
  },
  {
   "cell_type": "code",
   "execution_count": 48,
   "metadata": {
    "collapsed": false,
    "deletable": true,
    "editable": true
   },
   "outputs": [
    {
     "name": "stdout",
     "output_type": "stream",
     "text": [
      "feature likelihood for spam training data\n",
      "[ 0.35  0.35  0.62  0.02  0.64  0.37  0.44  0.33  0.29  0.46  0.31  0.63\n",
      "  0.28  0.13  0.16  0.56  0.37  0.38  0.89  0.21  0.81  0.05  0.33  0.38\n",
      "  0.03  0.01  0.    0.01  0.01  0.01  0.    0.    0.04  0.01  0.02  0.06\n",
      "  0.06  0.02  0.03  0.12  0.    0.01  0.05  0.03  0.27  0.04  0.01  0.01\n",
      "  0.15  0.65  0.07  0.84  0.6   0.29]\n"
     ]
    }
   ],
   "source": [
    "print('feature likelihood for spam training data')\n",
    "print np.mean(xtrainBin[ytrain==1], axis=0)"
   ]
  },
  {
   "cell_type": "code",
   "execution_count": 49,
   "metadata": {
    "collapsed": false,
    "deletable": true,
    "editable": true
   },
   "outputs": [
    {
     "name": "stdout",
     "output_type": "stream",
     "text": [
      "percentage uncertainty between posterior mean and training data likelihood for spam mails\n"
     ]
    },
    {
     "data": {
      "text/plain": [
       "array([ 0.,  0.,  0.,  0.,  0.,  0.,  0.,  0.,  0.,  0.,  0.,  0.,  0.,\n",
       "        0.,  0.,  0.,  0.,  0.,  0.,  0.,  0.,  0.,  0.,  0.,  0.,  0.,\n",
       "        0.,  0.,  0.,  0.,  0.,  0.,  0.,  0.,  0.,  0.,  0.,  0.,  0.,\n",
       "        0.,  0.,  0.,  0.,  0.,  0.,  0.,  0.,  0.,  0.,  0.,  0.,  0.,\n",
       "        0.,  0.])"
      ]
     },
     "execution_count": 49,
     "metadata": {},
     "output_type": "execute_result"
    }
   ],
   "source": [
    "print('percentage uncertainty between posterior mean and training data likelihood for spam mails')\n",
    "\n",
    "(posterior_predictive_mean(1,0)-\\\n",
    " np.mean(xtrainBin[ytrain==1], axis=0))/\\\n",
    "np.mean(xtrainBin[ytrain==1], axis=0)*100 # check with above"
   ]
  },
  {
   "cell_type": "code",
   "execution_count": 11,
   "metadata": {
    "collapsed": false,
    "deletable": true,
    "editable": true
   },
   "outputs": [],
   "source": [
    "def classify(email, alpha):\n",
    "    \"\"\"\n",
    "    classifies each email according to the posterior predictive means of the features\n",
    "    :params email: 57-element binarised array\n",
    "    :params posterior_predictive_mean: 57-element array of the posterior means derived from a particular alpha and the training data\n",
    "    \"\"\"\n",
    "    N_features = len(email)\n",
    "    \n",
    "    SecondTerm_Spam = 0\n",
    "    SecondTerm_notSpam = 0\n",
    "    \n",
    "    for j in np.arange(N_features): # second term in p(y=c | x, T) in notes\n",
    "        \n",
    "        SecondTerm_Spam += (email[j]==1)*np.log(posterior_predictive_mean(1,alpha)[j]) +\\\n",
    "        (email[j]==0)*np.log(1-posterior_predictive_mean(1,alpha)[j])\n",
    "        \n",
    "        SecondTerm_notSpam += (email[j]==1)*np.log(posterior_predictive_mean(0,alpha)[j]) +\\\n",
    "        (email[j]==0)*np.log(1-posterior_predictive_mean(0,alpha)[j])\n",
    "        \n",
    "    LogProb_Spam = np.log(classMLE) + SecondTerm_Spam\n",
    "    \n",
    "    LogProb_notSpam = np.log(1-classMLE) + SecondTerm_notSpam\n",
    "    \n",
    "    class_ = (LogProb_Spam >= LogProb_notSpam).astype('uint8')\n",
    "#     print class_\n",
    "    return class_"
   ]
  },
  {
   "cell_type": "markdown",
   "metadata": {
    "deletable": true,
    "editable": true
   },
   "source": [
    "## Error rate for test data"
   ]
  },
  {
   "cell_type": "code",
   "execution_count": 21,
   "metadata": {
    "collapsed": false,
    "deletable": true,
    "editable": true
   },
   "outputs": [],
   "source": [
    "def error_rate(alpha):\n",
    "    N_errors = 0\n",
    "    for idx,mail in enumerate(xtestBin):\n",
    "        N_errors += np.logical_xor(classify(mail,alpha), ytest[idx])\n",
    "    return N_errors/len(xtestBin)\n",
    "#         print classify(mail,alpha), ytest[idx]\n",
    "#     return [np.abs(classify(mail,posterior_predictive_mean(alpha))-ytest[idx]) for idx,mail in enumerate(xtestBin)]"
   ]
  },
  {
   "cell_type": "code",
   "execution_count": 25,
   "metadata": {
    "collapsed": true,
    "deletable": true,
    "editable": true
   },
   "outputs": [],
   "source": [
    "error_rates = Pool(4).map(error_rate, alphas)"
   ]
  },
  {
   "cell_type": "code",
   "execution_count": 26,
   "metadata": {
    "collapsed": true,
    "deletable": true,
    "editable": true
   },
   "outputs": [],
   "source": [
    "np.savetxt('q1_testing_error_rates_vs_alpha', zip(error_rates,alphas), header='error_rate\\talpha')"
   ]
  },
  {
   "cell_type": "code",
   "execution_count": 33,
   "metadata": {
    "collapsed": false,
    "deletable": true,
    "editable": true
   },
   "outputs": [
    {
     "data": {
      "image/png": "[encoded data removed]",
      "text/plain": [
       "<matplotlib.figure.Figure at 0x7f533c4fe0d0>"
      ]
     },
     "metadata": {},
     "output_type": "display_data"
    }
   ],
   "source": [
    "plt.figure()\n",
    "plt.scatter(alphas, error_rates)\n",
    "plt.xlabel('alpha')\n",
    "plt.ylabel('error (%)')\n",
    "# plt.xlim(0,10)\n",
    "plt.show()"
   ]
  },
  {
   "cell_type": "markdown",
   "metadata": {
    "deletable": true,
    "editable": true
   },
   "source": [
    "## Error rate for training data"
   ]
  },
  {
   "cell_type": "code",
   "execution_count": 22,
   "metadata": {
    "collapsed": true,
    "deletable": true,
    "editable": true
   },
   "outputs": [],
   "source": [
    "def error_rate_training(alpha):\n",
    "    N_errors = 0\n",
    "    for idx, mail in enumerate(xtrainBin):\n",
    "        N_errors += np.logical_xor(classify(mail,alpha), ytrain[idx])\n",
    "    return N_errors/len(xtrainBin)"
   ]
  },
  {
   "cell_type": "code",
   "execution_count": 13,
   "metadata": {
    "collapsed": false,
    "deletable": true,
    "editable": true
   },
   "outputs": [],
   "source": [
    "error_rates_training = Pool(4).map(error_rate_training, alphas)"
   ]
  },
  {
   "cell_type": "code",
   "execution_count": 15,
   "metadata": {
    "collapsed": false,
    "deletable": true,
    "editable": true
   },
   "outputs": [],
   "source": [
    "np.savetxt('q1_training_error_rates_vs_alpha', zip(error_rates_training,alphas), header='error_rate_training\\talpha')"
   ]
  },
  {
   "cell_type": "code",
   "execution_count": 16,
   "metadata": {
    "collapsed": false,
    "deletable": true,
    "editable": true
   },
   "outputs": [
    {
     "data": {
      "image/png": "[encoded data removed]",
      "text/plain": [
       "<matplotlib.figure.Figure at 0x7fce571a7350>"
      ]
     },
     "metadata": {},
     "output_type": "display_data"
    }
   ],
   "source": [
    "plt.figure()\n",
    "plt.scatter(alphas, error_rates_training)\n",
    "plt.xlabel('alpha')\n",
    "plt.ylabel('error (%)')\n",
    "# plt.xlim(0,10)\n",
    "plt.show()"
   ]
  },
  {
   "cell_type": "markdown",
   "metadata": {
    "deletable": true,
    "editable": true
   },
   "source": [
    "# Observations\n",
    "error rate increases with alpha for both training and test data"
   ]
  },
  {
   "cell_type": "markdown",
   "metadata": {
    "deletable": true,
    "editable": true
   },
   "source": [
    "# Training and test data error rates for alpha = 1, 10, 100"
   ]
  },
  {
   "cell_type": "code",
   "execution_count": 23,
   "metadata": {
    "collapsed": false,
    "deletable": true,
    "editable": true
   },
   "outputs": [
    {
     "data": {
      "text/plain": [
       "[0.107421875, 0.11197916666666667, 0.13541666666666666]"
      ]
     },
     "execution_count": 23,
     "metadata": {},
     "output_type": "execute_result"
    }
   ],
   "source": [
    "map(error_rate, np.array([1,10,100]))"
   ]
  },
  {
   "cell_type": "code",
   "execution_count": 24,
   "metadata": {
    "collapsed": false,
    "deletable": true,
    "editable": true
   },
   "outputs": [
    {
     "data": {
      "text/plain": [
       "[0.1135399673735726, 0.11876019575856443, 0.13866231647634583]"
      ]
     },
     "execution_count": 24,
     "metadata": {},
     "output_type": "execute_result"
    }
   ],
   "source": [
    "map(error_rate_training, np.array([1,10,100]))"
   ]
  },
  {
   "cell_type": "markdown",
   "metadata": {
    "deletable": true,
    "editable": true
   },
   "source": [
    "# Q2"
   ]
  },
  {
   "cell_type": "markdown",
   "metadata": {
    "deletable": true,
    "editable": true
   },
   "source": [
    "# Data Processing"
   ]
  },
  {
   "cell_type": "code",
   "execution_count": null,
   "metadata": {
    "collapsed": true,
    "deletable": true,
    "editable": true
   },
   "outputs": [],
   "source": []
  }
 ],
 "metadata": {
  "kernelspec": {
   "display_name": "Python 2",
   "language": "python",
   "name": "python2"
  },
  "language_info": {
   "codemirror_mode": {
    "name": "ipython",
    "version": 2
   },
   "file_extension": ".py",
   "mimetype": "text/x-python",
   "name": "python",
   "nbconvert_exporter": "python",
   "pygments_lexer": "ipython2",
   "version": "2.7.12"
  }
 },
 "nbformat": 4,
 "nbformat_minor": 0
}
