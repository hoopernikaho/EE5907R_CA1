{
 "cells": [
  {
   "cell_type": "code",
   "execution_count": 223,
   "metadata": {
    "collapsed": false
   },
   "outputs": [],
   "source": [
    "from __future__ import division\n",
    "import scipy.io\n",
    "from scipy.stats import norm\n",
    "import numpy as np\n",
    "import matplotlib.pyplot as plt\n",
    "import scipy.spatial.distance as distance\n",
    "\n",
    "from multiprocessing import Pool\n",
    "np.set_printoptions(precision=2, suppress=True)"
   ]
  },
  {
   "cell_type": "markdown",
   "metadata": {},
   "source": [
    "# Data Processing"
   ]
  },
  {
   "cell_type": "code",
   "execution_count": 178,
   "metadata": {
    "collapsed": true
   },
   "outputs": [],
   "source": [
    "d = scipy.io.loadmat('spamData.mat')\n",
    "ytest = d['ytest'].flatten()\n",
    "ytrain = d['ytrain'].flatten()\n",
    "xtest = d['Xtest']\n",
    "xtrain = d['Xtrain']"
   ]
  },
  {
   "cell_type": "code",
   "execution_count": 3,
   "metadata": {
    "collapsed": true
   },
   "outputs": [],
   "source": [
    "def binarize(array):\n",
    "    \"\"\"array: list of emails, each 57 features long\"\"\"\n",
    "    return np.array([x>0 for x in array]).astype('uint8')\n",
    "xtrainBin = binarize(xtrain)\n",
    "xtestBin = binarize(xtest)"
   ]
  },
  {
   "cell_type": "code",
   "execution_count": 4,
   "metadata": {
    "collapsed": true
   },
   "outputs": [],
   "source": [
    "#z-normalise features\n",
    "def znorm1D(array1D):\n",
    "    m = np.mean(array1D)\n",
    "    s = np.std(array1D)\n",
    "    return np.array((array1D-m)/s)\n",
    "def znorm2D(array2D):\n",
    "    \"\"\"znorm along columns of 2D array\"\"\"\n",
    "    znormed_columns = np.array([znorm1D(c) for c in array2D.T]) # each column in array2D is a row (called c) in array2D.T\n",
    "    return znormed_columns.T\n",
    "xtrainZ = znorm2D(xtrain)\n",
    "xtestZ = znorm2D(xtest)"
   ]
  },
  {
   "cell_type": "code",
   "execution_count": 5,
   "metadata": {
    "collapsed": true
   },
   "outputs": [],
   "source": [
    "#log-transform features\n",
    "def log2D(array):\n",
    "    \"\"\"array: list of emails, each 57 features long\"\"\"\n",
    "    return np.array([np.log(x+0.1) for x in array]).astype('uint8') #x is a 57 element array\n",
    "xtrainLog = log2D(xtrain)\n",
    "xtestLog = log2D(xtest)"
   ]
  },
  {
   "cell_type": "code",
   "execution_count": 210,
   "metadata": {
    "collapsed": false
   },
   "outputs": [
    {
     "name": "stdout",
     "output_type": "stream",
     "text": [
      "[  1   2   3   4   5   6   7   8   9  10  15  20  25  30  35  40  45  50\n",
      "  55  60  65  70  75  80  85  90  95 100]\n"
     ]
    }
   ],
   "source": [
    "Kays = np.insert(np.arange(15,105,5),0,np.arange(1,11,1))\n",
    "print Kays"
   ]
  },
  {
   "cell_type": "markdown",
   "metadata": {},
   "source": [
    "# Binarised"
   ]
  },
  {
   "cell_type": "code",
   "execution_count": 6,
   "metadata": {
    "collapsed": true
   },
   "outputs": [],
   "source": [
    "def HammingDistance(email1,email2):\n",
    "    \"\"\"number of features that are different between two binarised lists\"\"\"\n",
    "    return np.sum(np.logical_xor(email1,email2))"
   ]
  },
  {
   "cell_type": "code",
   "execution_count": 141,
   "metadata": {
    "collapsed": false
   },
   "outputs": [],
   "source": [
    "def HD(x1_array2D,x2_array2D): \n",
    "    \"\"\"\n",
    "    return Hamming Distances between mails x1 in x1_array2D and x2 in x2_array2D,\n",
    "    not the most efficient...\n",
    "    \"\"\"\n",
    "    return np.array([[HammingDistance(x1_array2D[idx1],x2_array2D[idx2]) for idx2 in np.arange(len(x2_array2D))] for idx1 in np.arange(len(x1_array2D))])"
   ]
  },
  {
   "cell_type": "code",
   "execution_count": 115,
   "metadata": {
    "collapsed": false
   },
   "outputs": [],
   "source": [
    "HD_train = HD(xtrainBin,xtrainBin) # compute all distances, go have some coffee..."
   ]
  },
  {
   "cell_type": "code",
   "execution_count": 124,
   "metadata": {
    "collapsed": false
   },
   "outputs": [],
   "source": [
    "np.savetxt('HammingDistances_training.dat',np.array(HD_train))"
   ]
  },
  {
   "cell_type": "code",
   "execution_count": 142,
   "metadata": {
    "collapsed": false
   },
   "outputs": [],
   "source": [
    "HD_test = HD(xtestBin,xtrainBin) # compute all distances, go have some coffee..."
   ]
  },
  {
   "cell_type": "code",
   "execution_count": 143,
   "metadata": {
    "collapsed": false
   },
   "outputs": [],
   "source": [
    "np.savetxt('HammingDistances_testing.dat',np.array(HD_test))"
   ]
  },
  {
   "cell_type": "code",
   "execution_count": 135,
   "metadata": {
    "collapsed": false
   },
   "outputs": [
    {
     "data": {
      "text/plain": [
       "array([25, 31,  0, ..., 13, 26, 33])"
      ]
     },
     "execution_count": 135,
     "metadata": {},
     "output_type": "execute_result"
    }
   ],
   "source": [
    "HD_train[2]"
   ]
  },
  {
   "cell_type": "code",
   "execution_count": 137,
   "metadata": {
    "collapsed": false
   },
   "outputs": [
    {
     "data": {
      "text/plain": [
       "[0, 1, 2, 3]"
      ]
     },
     "execution_count": 137,
     "metadata": {},
     "output_type": "execute_result"
    }
   ],
   "source": [
    "a = [0,1,2,3,4]\n",
    "a[0:4]"
   ]
  },
  {
   "cell_type": "code",
   "execution_count": 153,
   "metadata": {
    "collapsed": false
   },
   "outputs": [],
   "source": [
    "def KnnClassify_OneMail(distances_array1D, k,\n",
    "                        y_array1D=ytrain):\n",
    "    \"\"\"\n",
    "    classifies a single mail given a distance array specifying its distances from all other training mails\n",
    "    as the distance array includes the distance from itself (0 units), \n",
    "    we find the k-nearest neighbours from the second smallest distance onwards.\n",
    "    \"\"\"\n",
    "    ClosestEmails_Indices = np.argsort(distances_array1D)[1:k+1]\n",
    "    Counts1 = np.sum(y_array1D[ClosestEmails_Indices]==1)\n",
    "    Counts0 = np.sum(y_array1D[ClosestEmails_Indices]==0)\n",
    "    return Counts1>Counts0"
   ]
  },
  {
   "cell_type": "code",
   "execution_count": 155,
   "metadata": {
    "collapsed": false
   },
   "outputs": [],
   "source": [
    "def KnnClassify_AllMails(distances_array2D,k):\n",
    "    return np.array(\n",
    "        [KnnClassify_OneMail(distances_array1D,k) for distances_array1D in distances_array2D]\n",
    "    )"
   ]
  },
  {
   "cell_type": "code",
   "execution_count": 170,
   "metadata": {
    "collapsed": true
   },
   "outputs": [],
   "source": [
    "def error_rate(distances_array2D,y_array1D,k):\n",
    "    \"\"\"\n",
    "    uses KNN to classify mails whose distance to the training mails is described by distances_array2D,\n",
    "    y_array1D: class labels for comparison with classifier results\n",
    "    \"\"\"\n",
    "    N = len(y_array1D)\n",
    "    results = KnnClassify_AllMails(distances_array2D,k)\n",
    "    return np.sum(np.logical_xor(results,y_array1D))/N*100"
   ]
  },
  {
   "cell_type": "code",
   "execution_count": 214,
   "metadata": {
    "collapsed": false
   },
   "outputs": [
    {
     "data": {
      "text/plain": [
       "10.70146818923328"
      ]
     },
     "execution_count": 214,
     "metadata": {},
     "output_type": "execute_result"
    }
   ],
   "source": [
    "error_rate(HD_train,ytrain,1)"
   ]
  },
  {
   "cell_type": "code",
   "execution_count": 191,
   "metadata": {
    "collapsed": false
   },
   "outputs": [],
   "source": [
    "Bin_ErrorRates_Testing = map(lambda k: error_rate(HD_test,ytest,k),Kays) "
   ]
  },
  {
   "cell_type": "code",
   "execution_count": 244,
   "metadata": {
    "collapsed": true
   },
   "outputs": [],
   "source": [
    "# np.savetxt('Bin_ErrorRates_Testing.dat',Bin_ErrorRates_Testing)\n",
    "Bin_ErrorRates_Testing = np.loadtxt('Bin_ErrorRates_Testing.dat')"
   ]
  },
  {
   "cell_type": "code",
   "execution_count": 245,
   "metadata": {
    "collapsed": false
   },
   "outputs": [
    {
     "data": {
      "image/png": "[encoded data removed]",
      "text/plain": [
       "<matplotlib.figure.Figure at 0x1309104d0>"
      ]
     },
     "metadata": {},
     "output_type": "display_data"
    }
   ],
   "source": [
    "%matplotlib inline\n",
    "plt.figure()\n",
    "plt.title('Error Rates for Binarised Testing Data')\n",
    "plt.scatter(Kays,Bin_ErrorRates_Testing)\n",
    "plt.xlabel('K')\n",
    "plt.ylabel('error rate (%)')\n",
    "plt.show()"
   ]
  },
  {
   "cell_type": "code",
   "execution_count": 198,
   "metadata": {
    "collapsed": true
   },
   "outputs": [],
   "source": [
    "Bin_ErrorRates_Training = map(lambda k: error_rate(HD_train,ytrain,k),Kays) "
   ]
  },
  {
   "cell_type": "code",
   "execution_count": 246,
   "metadata": {
    "collapsed": true
   },
   "outputs": [],
   "source": [
    "# np.savetxt('Bin_ErrorRates_Training.dat',Bin_ErrorRates_Training)\n",
    "Bin_ErrorRates_Training = np.loadtxt('Bin_ErrorRates_Training.dat')"
   ]
  },
  {
   "cell_type": "code",
   "execution_count": 247,
   "metadata": {
    "collapsed": false
   },
   "outputs": [
    {
     "data": {
      "image/png": "[encoded data removed]",
      "text/plain": [
       "<matplotlib.figure.Figure at 0x1309e3090>"
      ]
     },
     "metadata": {},
     "output_type": "display_data"
    }
   ],
   "source": [
    "%matplotlib inline\n",
    "plt.figure()\n",
    "plt.title('Error Rates for Binarised Training Data')\n",
    "plt.scatter(Kays,Bin_ErrorRates_Training)\n",
    "plt.xlabel('K')\n",
    "plt.ylabel('error rate (%)')\n",
    "plt.show()"
   ]
  },
  {
   "cell_type": "markdown",
   "metadata": {},
   "source": [
    "## Comments on error rates varying with K\n",
    "There seems to be an optimal number of neighbours (approximately 3-20) where the error rates are the lowest.\n",
    "If K < 3 then there might be too few neighbours to make an accurate comparison.\n",
    "If K > 20 then neighbours that are further away from the mail to be categorised, which might have little correlation to the mail, are taken into account, and the error rates start to increase.\n",
    "\n",
    "The training error is not 0 when it looks for 1 nearest neighbour due to too little data - it should approach zero as more training data is available."
   ]
  },
  {
   "cell_type": "code",
   "execution_count": 261,
   "metadata": {
    "collapsed": false
   },
   "outputs": [
    {
     "name": "stdout",
     "output_type": "stream",
     "text": [
      "[[ 10.7 ]\n",
      " [  8.22]\n",
      " [ 11.16]]\n",
      "[[ 12.24]\n",
      " [  9.05]\n",
      " [ 11.91]]\n"
     ]
    }
   ],
   "source": [
    "# Error rates for K = 1,10,100\n",
    "print np.array([Bin_ErrorRates_Training[Kays==i] for i in [1,10,100]])\n",
    "print np.array([Bin_ErrorRates_Testing[Kays==i] for i in [1,10,100]])"
   ]
  },
  {
   "cell_type": "code",
   "execution_count": 221,
   "metadata": {
    "collapsed": true
   },
   "outputs": [],
   "source": [
    "# Define distance functions for continuous features"
   ]
  },
  {
   "cell_type": "code",
   "execution_count": 219,
   "metadata": {
    "collapsed": true
   },
   "outputs": [],
   "source": [
    "def EuclideanDistance(u,v):\n",
    "    \"\"\"uses scipy package to calculate euclidean distance\"\"\"\n",
    "    return distance.euclidean(u,v)"
   ]
  },
  {
   "cell_type": "code",
   "execution_count": 220,
   "metadata": {
    "collapsed": true
   },
   "outputs": [],
   "source": [
    "def ED(x1_array2D,x2_array2D):\n",
    "    \"\"\"\n",
    "    return Euclidean Distances between mails x1 in x1_array2D and x2 in x2_array2D,\n",
    "    not the most efficient...\n",
    "    \"\"\"\n",
    "    return np.array([[EuclideanDistance(x1_array2D[idx1],x2_array2D[idx2]) for idx2 in np.arange(len(x2_array2D))] for idx1 in np.arange(len(x1_array2D))])"
   ]
  },
  {
   "cell_type": "markdown",
   "metadata": {},
   "source": [
    "# Z-normed"
   ]
  },
  {
   "cell_type": "code",
   "execution_count": 224,
   "metadata": {
    "collapsed": false
   },
   "outputs": [],
   "source": [
    "ED_TrainingZ = ED(xtrainZ,xtrainZ)"
   ]
  },
  {
   "cell_type": "code",
   "execution_count": 225,
   "metadata": {
    "collapsed": true
   },
   "outputs": [],
   "source": [
    "np.savetxt('EuclideanDistances_TrainingZ.dat',np.array(ED_TrainingZ))"
   ]
  },
  {
   "cell_type": "code",
   "execution_count": 226,
   "metadata": {
    "collapsed": true
   },
   "outputs": [],
   "source": [
    "ED_TestingZ = ED(xtestZ,xtrainZ)"
   ]
  },
  {
   "cell_type": "code",
   "execution_count": 227,
   "metadata": {
    "collapsed": true
   },
   "outputs": [],
   "source": [
    "np.savetxt('EuclideanDistances_TestingZ.dat',np.array(ED_TestingZ))"
   ]
  },
  {
   "cell_type": "code",
   "execution_count": 229,
   "metadata": {
    "collapsed": false
   },
   "outputs": [],
   "source": [
    "Z_ErrorRates_Testing = map(lambda k: error_rate(ED_TestingZ,ytest,k),Kays) "
   ]
  },
  {
   "cell_type": "code",
   "execution_count": 230,
   "metadata": {
    "collapsed": true
   },
   "outputs": [],
   "source": [
    "Z_ErrorRates_Training = map(lambda k: error_rate(ED_TrainingZ,ytrain,k),Kays) "
   ]
  },
  {
   "cell_type": "code",
   "execution_count": 243,
   "metadata": {
    "collapsed": false
   },
   "outputs": [
    {
     "data": {
      "text/plain": [
       "<matplotlib.text.Text at 0x1306c2450>"
      ]
     },
     "execution_count": 243,
     "metadata": {},
     "output_type": "execute_result"
    },
    {
     "data": {
      "image/png": "[encoded data removed]",
      "text/plain": [
       "<matplotlib.figure.Figure at 0x1303570d0>"
      ]
     },
     "metadata": {},
     "output_type": "display_data"
    }
   ],
   "source": [
    "f, [ax0,ax1] = plt.subplots(2, sharex=True, sharey=True)\n",
    "ax0.set_title('Error Rates for Z-normed Testing Data')\n",
    "ax1.set_title('Error Rates for Z-normed Training Data')\n",
    "ax0.scatter(Kays,Z_ErrorRates_Testing)\n",
    "ax1.scatter(Kays,Z_ErrorRates_Training)\n",
    "ax1.set_xlabel('K')\n",
    "ax0.set_ylabel('error rate(%)')\n",
    "ax1.set_ylabel('error rate(%)')"
   ]
  },
  {
   "cell_type": "code",
   "execution_count": 267,
   "metadata": {
    "collapsed": false
   },
   "outputs": [
    {
     "name": "stdout",
     "output_type": "stream",
     "text": [
      "[array([ 9.59]), array([ 10.31]), array([ 13.54])]\n",
      "[array([ 12.89]), array([ 10.81]), array([ 12.96])]\n"
     ]
    }
   ],
   "source": [
    "# Error rates for K = 1,10,100\n",
    "print [np.array(Z_ErrorRates_Training)[Kays==i] for i in [1,10,100]]\n",
    "print [np.array(Z_ErrorRates_Testing)[Kays==i] for i in [1,10,100]]"
   ]
  },
  {
   "cell_type": "markdown",
   "metadata": {},
   "source": [
    "## Comments on error rates varying with K\n",
    "The error rates are lower for the training set (compared to the testing set) for lower values of K.\n",
    "This could indicate overfitting for low K values."
   ]
  },
  {
   "cell_type": "markdown",
   "metadata": {},
   "source": [
    "# Log-transformed"
   ]
  },
  {
   "cell_type": "code",
   "execution_count": 248,
   "metadata": {
    "collapsed": true
   },
   "outputs": [],
   "source": [
    "ED_TrainingLog = ED(xtrainLog,xtrainLog)"
   ]
  },
  {
   "cell_type": "code",
   "execution_count": 249,
   "metadata": {
    "collapsed": true
   },
   "outputs": [],
   "source": [
    "np.savetxt('EuclideanDistances_TrainingLog.dat',np.array(ED_TrainingLog))"
   ]
  },
  {
   "cell_type": "code",
   "execution_count": 250,
   "metadata": {
    "collapsed": true
   },
   "outputs": [],
   "source": [
    "ED_TestingLog = ED(xtestLog,xtrainLog)"
   ]
  },
  {
   "cell_type": "code",
   "execution_count": 251,
   "metadata": {
    "collapsed": true
   },
   "outputs": [],
   "source": [
    "np.savetxt('EuclideanDistances_TestingLog.dat',np.array(ED_TestingLog))"
   ]
  },
  {
   "cell_type": "code",
   "execution_count": 252,
   "metadata": {
    "collapsed": true
   },
   "outputs": [],
   "source": [
    "Log_ErrorRates_Testing = map(lambda k: error_rate(ED_TestingLog,ytest,k),Kays) "
   ]
  },
  {
   "cell_type": "code",
   "execution_count": 253,
   "metadata": {
    "collapsed": true
   },
   "outputs": [],
   "source": [
    "Log_ErrorRates_Training = map(lambda k: error_rate(ED_TrainingLog,ytrain,k),Kays) "
   ]
  },
  {
   "cell_type": "code",
   "execution_count": 254,
   "metadata": {
    "collapsed": false
   },
   "outputs": [
    {
     "data": {
      "text/plain": [
       "<matplotlib.text.Text at 0x1437e4a50>"
      ]
     },
     "execution_count": 254,
     "metadata": {},
     "output_type": "execute_result"
    },
    {
     "data": {
      "image/png": "[encoded data removed]",
      "text/plain": [
       "<matplotlib.figure.Figure at 0x130b0ce50>"
      ]
     },
     "metadata": {},
     "output_type": "display_data"
    }
   ],
   "source": [
    "g, [ax0,ax1] = plt.subplots(2, sharex=True, sharey=True)\n",
    "ax0.set_title('Error Rates for Log-transformed Testing Data')\n",
    "ax1.set_title('Error Rates for Log-transformed Training Data')\n",
    "ax0.scatter(Kays,Log_ErrorRates_Testing)\n",
    "ax1.scatter(Kays,Log_ErrorRates_Training)\n",
    "ax1.set_xlabel('K')\n",
    "ax0.set_ylabel('error rate(%)')\n",
    "ax1.set_ylabel('error rate(%)')"
   ]
  },
  {
   "cell_type": "code",
   "execution_count": 268,
   "metadata": {
    "collapsed": false
   },
   "outputs": [
    {
     "name": "stdout",
     "output_type": "stream",
     "text": [
      "[array([ 15.79]), array([ 20.33]), array([ 38.89])]\n",
      "[array([ 19.27]), array([ 22.66]), array([ 39.97])]\n"
     ]
    }
   ],
   "source": [
    "# Error rates for K = 1,10,100\n",
    "print [np.array(Log_ErrorRates_Training)[Kays==i] for i in [1,10,100]]\n",
    "print [np.array(Log_ErrorRates_Testing)[Kays==i] for i in [1,10,100]]"
   ]
  },
  {
   "cell_type": "markdown",
   "metadata": {},
   "source": [
    "# Comments on error rates for different preprocessing strategies\n",
    "Binarised data have generally lower error rates compared to other strategies.\n",
    "This is in contrast to the observations made for logistic regression."
   ]
  },
  {
   "cell_type": "code",
   "execution_count": null,
   "metadata": {
    "collapsed": true
   },
   "outputs": [],
   "source": []
  }
 ],
 "metadata": {
  "kernelspec": {
   "display_name": "Python 2",
   "language": "python",
   "name": "python2"
  },
  "language_info": {
   "codemirror_mode": {
    "name": "ipython",
    "version": 2
   },
   "file_extension": ".py",
   "mimetype": "text/x-python",
   "name": "python",
   "nbconvert_exporter": "python",
   "pygments_lexer": "ipython2",
   "version": "2.7.10"
  }
 },
 "nbformat": 4,
 "nbformat_minor": 0
}
