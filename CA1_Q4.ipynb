{
 "cells": [
  {
   "cell_type": "code",
   "execution_count": 1,
   "metadata": {
    "collapsed": false,
    "deletable": true,
    "editable": true
   },
   "outputs": [],
   "source": [
    "from __future__ import division\n",
    "import scipy.io\n",
    "from scipy.stats import norm\n",
    "import numpy as np\n",
    "import matplotlib.pyplot as plt\n",
    "import scipy.spatial.distance as distance\n",
    "\n",
    "from multiprocessing import Pool\n",
    "np.set_printoptions(precision=2, suppress=True)"
   ]
  },
  {
   "cell_type": "markdown",
   "metadata": {
    "deletable": true,
    "editable": true
   },
   "source": [
    "# Data Processing"
   ]
  },
  {
   "cell_type": "code",
   "execution_count": 19,
   "metadata": {
    "collapsed": true,
    "deletable": true,
    "editable": true
   },
   "outputs": [],
   "source": [
    "d = scipy.io.loadmat('spamData.mat')\n",
    "ytest = d['ytest'].flatten()\n",
    "ytrain = d['ytrain'].flatten()\n",
    "xtest = d['Xtest']\n",
    "xtrain = d['Xtrain']"
   ]
  },
  {
   "cell_type": "code",
   "execution_count": 20,
   "metadata": {
    "collapsed": true,
    "deletable": true,
    "editable": true
   },
   "outputs": [],
   "source": [
    "def binarize(array):\n",
    "    \"\"\"array: list of emails, each 57 features long\"\"\"\n",
    "    return np.array([x>0 for x in array]).astype('uint8')\n",
    "xtrainBin = binarize(xtrain)\n",
    "xtestBin = binarize(xtest)"
   ]
  },
  {
   "cell_type": "code",
   "execution_count": 21,
   "metadata": {
    "collapsed": true,
    "deletable": true,
    "editable": true
   },
   "outputs": [],
   "source": [
    "#z-normalise features\n",
    "def znorm1D(array1D):\n",
    "    m = np.mean(array1D)\n",
    "    s = np.std(array1D)\n",
    "    return np.array((array1D-m)/s)\n",
    "def znorm2D(array2D):\n",
    "    \"\"\"znorm along columns of 2D array\"\"\"\n",
    "    znormed_columns = np.array([znorm1D(c) for c in array2D.T]) # each column in array2D is a row (called c) in array2D.T\n",
    "    return znormed_columns.T\n",
    "xtrainZ = znorm2D(xtrain)\n",
    "xtestZ = znorm2D(xtest)"
   ]
  },
  {
   "cell_type": "code",
   "execution_count": 22,
   "metadata": {
    "collapsed": true,
    "deletable": true,
    "editable": true
   },
   "outputs": [],
   "source": [
    "#log-transform features\n",
    "def log2D(array):\n",
    "    \"\"\"array: list of emails, each 57 features long\"\"\"\n",
    "    return np.array([np.log(x+0.1) for x in array]) #x is a 57 element array\n",
    "xtrainLog = log2D(xtrain)\n",
    "xtestLog = log2D(xtest)"
   ]
  },
  {
   "cell_type": "code",
   "execution_count": 23,
   "metadata": {
    "collapsed": false,
    "deletable": true,
    "editable": true
   },
   "outputs": [
    {
     "name": "stdout",
     "output_type": "stream",
     "text": [
      "[  1   2   3   4   5   6   7   8   9  10  15  20  25  30  35  40  45  50\n",
      "  55  60  65  70  75  80  85  90  95 100]\n"
     ]
    }
   ],
   "source": [
    "Kays = np.insert(np.arange(15,105,5),0,np.arange(1,11,1))\n",
    "print Kays"
   ]
  },
  {
   "cell_type": "markdown",
   "metadata": {
    "deletable": true,
    "editable": true
   },
   "source": [
    "# Binarised"
   ]
  },
  {
   "cell_type": "code",
   "execution_count": 6,
   "metadata": {
    "collapsed": true,
    "deletable": true,
    "editable": true
   },
   "outputs": [],
   "source": [
    "def HammingDistance(email1,email2):\n",
    "    \"\"\"number of features that are different between two binarised lists\"\"\"\n",
    "    return np.sum(np.logical_xor(email1,email2))"
   ]
  },
  {
   "cell_type": "code",
   "execution_count": 141,
   "metadata": {
    "collapsed": false,
    "deletable": true,
    "editable": true
   },
   "outputs": [],
   "source": [
    "def HD(x1_array2D,x2_array2D): \n",
    "    \"\"\"\n",
    "    return Hamming Distances between mails x1 in x1_array2D and x2 in x2_array2D,\n",
    "    not the most efficient...\n",
    "    \"\"\"\n",
    "    return np.array([[HammingDistance(x1_array2D[idx1],x2_array2D[idx2]) for idx2 in np.arange(len(x2_array2D))] for idx1 in np.arange(len(x1_array2D))])"
   ]
  },
  {
   "cell_type": "code",
   "execution_count": 115,
   "metadata": {
    "collapsed": false,
    "deletable": true,
    "editable": true
   },
   "outputs": [],
   "source": [
    "HD_train = HD(xtrainBin,xtrainBin) # compute all distances, go have some coffee..."
   ]
  },
  {
   "cell_type": "code",
   "execution_count": 124,
   "metadata": {
    "collapsed": false,
    "deletable": true,
    "editable": true
   },
   "outputs": [],
   "source": [
    "# np.savetxt('HammingDistances_training.dat',np.array(HD_train))"
   ]
  },
  {
   "cell_type": "code",
   "execution_count": 142,
   "metadata": {
    "collapsed": false,
    "deletable": true,
    "editable": true
   },
   "outputs": [],
   "source": [
    "HD_test = HD(xtestBin,xtrainBin) # compute all distances, go have some coffee..."
   ]
  },
  {
   "cell_type": "code",
   "execution_count": 143,
   "metadata": {
    "collapsed": false,
    "deletable": true,
    "editable": true
   },
   "outputs": [],
   "source": [
    "# np.savetxt('HammingDistances_testing.dat',np.array(HD_test))"
   ]
  },
  {
   "cell_type": "code",
   "execution_count": 24,
   "metadata": {
    "collapsed": true,
    "deletable": true,
    "editable": true
   },
   "outputs": [],
   "source": [
    "# HD_train = np.loadtxt('HammingDistances_training.dat')\n",
    "# HD_test = np.loadtxt('HammingDistances_testing.dat')"
   ]
  },
  {
   "cell_type": "code",
   "execution_count": 135,
   "metadata": {
    "collapsed": false,
    "deletable": true,
    "editable": true
   },
   "outputs": [
    {
     "data": {
      "text/plain": [
       "array([25, 31,  0, ..., 13, 26, 33])"
      ]
     },
     "execution_count": 135,
     "metadata": {},
     "output_type": "execute_result"
    }
   ],
   "source": [
    "HD_train[2]"
   ]
  },
  {
   "cell_type": "code",
   "execution_count": 137,
   "metadata": {
    "collapsed": false,
    "deletable": true,
    "editable": true
   },
   "outputs": [
    {
     "data": {
      "text/plain": [
       "[0, 1, 2, 3]"
      ]
     },
     "execution_count": 137,
     "metadata": {},
     "output_type": "execute_result"
    }
   ],
   "source": [
    "a = [0,1,2,3,4]\n",
    "a[0:4]"
   ]
  },
  {
   "cell_type": "code",
   "execution_count": 62,
   "metadata": {
    "collapsed": false,
    "deletable": true,
    "editable": true
   },
   "outputs": [],
   "source": [
    "def KnnClassify_OneMail(distances_array1D, k,\n",
    "                        y_array1D=ytrain):\n",
    "    \"\"\"\n",
    "    classifies a single mail given a distance array specifying its distances from all other training mails\n",
    "    as the distance array includes the distance from itself (0 units), \n",
    "    we find the k-nearest neighbours from the second smallest distance onwards.\n",
    "    \"\"\"\n",
    "    ClosestEmails_Indices = np.argsort(distances_array1D)[0:k]\n",
    "    Counts1 = np.sum(y_array1D[ClosestEmails_Indices]==1)\n",
    "    Counts0 = np.sum(y_array1D[ClosestEmails_Indices]==0)\n",
    "    return Counts1>Counts0"
   ]
  },
  {
   "cell_type": "code",
   "execution_count": 26,
   "metadata": {
    "collapsed": false,
    "deletable": true,
    "editable": true
   },
   "outputs": [],
   "source": [
    "def KnnClassify_AllMails(distances_array2D,k):\n",
    "    return np.array(\n",
    "        [KnnClassify_OneMail(distances_array1D,k) for distances_array1D in distances_array2D]\n",
    "    )"
   ]
  },
  {
   "cell_type": "code",
   "execution_count": 27,
   "metadata": {
    "collapsed": true,
    "deletable": true,
    "editable": true
   },
   "outputs": [],
   "source": [
    "def error_rate(distances_array2D,y_array1D,k):\n",
    "    \"\"\"\n",
    "    uses KNN to classify mails whose distance to the training mails is described by distances_array2D,\n",
    "    y_array1D: class labels for comparison with classifier results\n",
    "    \"\"\"\n",
    "    N = len(y_array1D)\n",
    "    results = KnnClassify_AllMails(distances_array2D,k)\n",
    "    return np.sum(np.logical_xor(results,y_array1D))/N*100"
   ]
  },
  {
   "cell_type": "code",
   "execution_count": 28,
   "metadata": {
    "collapsed": false,
    "deletable": true,
    "editable": true
   },
   "outputs": [
    {
     "data": {
      "text/plain": [
       "1.0766721044045677"
      ]
     },
     "execution_count": 28,
     "metadata": {},
     "output_type": "execute_result"
    }
   ],
   "source": [
    "error_rate(HD_train,ytrain,1)"
   ]
  },
  {
   "cell_type": "code",
   "execution_count": 63,
   "metadata": {
    "collapsed": false,
    "deletable": true,
    "editable": true
   },
   "outputs": [],
   "source": [
    "Bin_ErrorRates_Testing = map(lambda k: error_rate(HD_test,ytest,k),Kays) "
   ]
  },
  {
   "cell_type": "code",
   "execution_count": 91,
   "metadata": {
    "collapsed": false,
    "deletable": true,
    "editable": true
   },
   "outputs": [],
   "source": [
    "# np.savetxt('Bin_ErrorRates_Testing.dat',Bin_ErrorRates_Testing)\n",
    "# Bin_ErrorRates_Testing = np.loadtxt('Bin_ErrorRates_Testing.dat')"
   ]
  },
  {
   "cell_type": "code",
   "execution_count": 32,
   "metadata": {
    "collapsed": false,
    "deletable": true,
    "editable": true
   },
   "outputs": [
    {
     "data": {
      "image/png": "[encoded data removed]",
      "text/plain": [
       "<matplotlib.figure.Figure at 0x7f8ee3a31450>"
      ]
     },
     "metadata": {},
     "output_type": "display_data"
    }
   ],
   "source": [
    "%matplotlib inline\n",
    "plt.figure()\n",
    "plt.title('Error Rates for Binarised Testing Data')\n",
    "plt.scatter(Kays,Bin_ErrorRates_Testing)\n",
    "plt.xlabel('K')\n",
    "plt.ylabel('error rate (%)')\n",
    "plt.show()"
   ]
  },
  {
   "cell_type": "code",
   "execution_count": 65,
   "metadata": {
    "collapsed": true,
    "deletable": true,
    "editable": true
   },
   "outputs": [],
   "source": [
    "Bin_ErrorRates_Training = map(lambda k: error_rate(HD_train,ytrain,k),Kays) "
   ]
  },
  {
   "cell_type": "code",
   "execution_count": 92,
   "metadata": {
    "collapsed": true,
    "deletable": true,
    "editable": true
   },
   "outputs": [],
   "source": [
    "# np.savetxt('Bin_ErrorRates_Training.dat',Bin_ErrorRates_Training)\n",
    "# Bin_ErrorRates_Training = np.loadtxt('Bin_ErrorRates_Training.dat')"
   ]
  },
  {
   "cell_type": "code",
   "execution_count": 101,
   "metadata": {
    "collapsed": false,
    "deletable": true,
    "editable": true
   },
   "outputs": [
    {
     "data": {
      "image/png": "[encoded data removed]",
      "text/plain": [
       "<matplotlib.figure.Figure at 0x7f8ec7fb4690>"
      ]
     },
     "metadata": {},
     "output_type": "display_data"
    }
   ],
   "source": [
    "%matplotlib inline\n",
    "import seaborn\n",
    "plt.figure()\n",
    "# plt.title('Error Rates for Binarised Training Data')\n",
    "plt.plot(Kays,Bin_ErrorRates_Training, label='training data')\n",
    "plt.plot(Kays,Bin_ErrorRates_Testing, label='test data')\n",
    "plt.xlabel('K')\n",
    "plt.ylabel('error rate (%)')\n",
    "# plt.xlim(0,10)\n",
    "plt.legend(loc='best')\n",
    "plt.show()"
   ]
  },
  {
   "cell_type": "code",
   "execution_count": 93,
   "metadata": {
    "collapsed": false,
    "deletable": true,
    "editable": true
   },
   "outputs": [
    {
     "name": "stdout",
     "output_type": "stream",
     "text": [
      "[[  1.08]\n",
      " [  7.21]\n",
      " [ 10.93]]\n",
      "[[  7.29]\n",
      " [  8.2 ]\n",
      " [ 11.85]]\n"
     ]
    }
   ],
   "source": [
    "# Error rates for K = 1,10,100\n",
    "print np.array([np.array(Bin_ErrorRates_Training)[Kays==i] for i in [1,10,100]])\n",
    "print np.array([np.array(Bin_ErrorRates_Testing)[Kays==i] for i in [1,10,100]])"
   ]
  },
  {
   "cell_type": "code",
   "execution_count": 221,
   "metadata": {
    "collapsed": true,
    "deletable": true,
    "editable": true
   },
   "outputs": [],
   "source": [
    "# Define distance functions for continuous features"
   ]
  },
  {
   "cell_type": "code",
   "execution_count": 8,
   "metadata": {
    "collapsed": true,
    "deletable": true,
    "editable": true
   },
   "outputs": [],
   "source": [
    "def EuclideanDistance(u,v):\n",
    "    \"\"\"uses scipy package to calculate euclidean distance\"\"\"\n",
    "    return distance.euclidean(u,v)"
   ]
  },
  {
   "cell_type": "code",
   "execution_count": 9,
   "metadata": {
    "collapsed": true,
    "deletable": true,
    "editable": true
   },
   "outputs": [],
   "source": [
    "def ED(x1_array2D,x2_array2D):\n",
    "    \"\"\"\n",
    "    return Euclidean Distances between mails x1 in x1_array2D and x2 in x2_array2D,\n",
    "    not the most efficient...\n",
    "    \"\"\"\n",
    "    return np.array([[EuclideanDistance(x1_array2D[idx1],x2_array2D[idx2]) for idx2 in np.arange(len(x2_array2D))] for idx1 in np.arange(len(x1_array2D))])"
   ]
  },
  {
   "cell_type": "markdown",
   "metadata": {
    "deletable": true,
    "editable": true
   },
   "source": [
    "# Z-normed"
   ]
  },
  {
   "cell_type": "code",
   "execution_count": 224,
   "metadata": {
    "collapsed": false,
    "deletable": true,
    "editable": true
   },
   "outputs": [],
   "source": [
    "ED_TrainingZ = ED(xtrainZ,xtrainZ)"
   ]
  },
  {
   "cell_type": "code",
   "execution_count": 225,
   "metadata": {
    "collapsed": true,
    "deletable": true,
    "editable": true
   },
   "outputs": [],
   "source": [
    "# np.savetxt('EuclideanDistances_TrainingZ.dat',np.array(ED_TrainingZ))"
   ]
  },
  {
   "cell_type": "code",
   "execution_count": 74,
   "metadata": {
    "collapsed": true,
    "deletable": true,
    "editable": true
   },
   "outputs": [],
   "source": [
    "# ED_TrainingZ = np.loadtxt('EuclideanDistances_TrainingZ.dat')"
   ]
  },
  {
   "cell_type": "code",
   "execution_count": 226,
   "metadata": {
    "collapsed": true,
    "deletable": true,
    "editable": true
   },
   "outputs": [],
   "source": [
    "ED_TestingZ = ED(xtestZ,xtrainZ)"
   ]
  },
  {
   "cell_type": "code",
   "execution_count": 227,
   "metadata": {
    "collapsed": true,
    "deletable": true,
    "editable": true
   },
   "outputs": [],
   "source": [
    "# np.savetxt('EuclideanDistances_TestingZ.dat',np.array(ED_TestingZ))"
   ]
  },
  {
   "cell_type": "code",
   "execution_count": 75,
   "metadata": {
    "collapsed": true,
    "deletable": true,
    "editable": true
   },
   "outputs": [],
   "source": [
    "# ED_TestingZ=np.loadtxt('EuclideanDistances_TestingZ.dat')"
   ]
  },
  {
   "cell_type": "code",
   "execution_count": 76,
   "metadata": {
    "collapsed": false,
    "deletable": true,
    "editable": true
   },
   "outputs": [],
   "source": [
    "Z_ErrorRates_Testing = map(lambda k: error_rate(ED_TestingZ,ytest,k),Kays) "
   ]
  },
  {
   "cell_type": "code",
   "execution_count": 77,
   "metadata": {
    "collapsed": true,
    "deletable": true,
    "editable": true
   },
   "outputs": [],
   "source": [
    "Z_ErrorRates_Training = map(lambda k: error_rate(ED_TrainingZ,ytrain,k),Kays) "
   ]
  },
  {
   "cell_type": "code",
   "execution_count": 97,
   "metadata": {
    "collapsed": false,
    "deletable": true,
    "editable": true
   },
   "outputs": [
    {
     "data": {
      "text/plain": [
       "<matplotlib.text.Text at 0x7f8ec7cddc10>"
      ]
     },
     "execution_count": 97,
     "metadata": {},
     "output_type": "execute_result"
    },
    {
     "data": {
      "image/png": "[encoded data removed]",
      "text/plain": [
       "<matplotlib.figure.Figure at 0x7f8ecf66cc90>"
      ]
     },
     "metadata": {},
     "output_type": "display_data"
    }
   ],
   "source": [
    "f, [ax0,ax1] = plt.subplots(2, sharex=True, sharey=True)\n",
    "ax0.set_title('Error Rates for Z-normed Testing Data')\n",
    "ax1.set_title('Error Rates for Z-normed Training Data')\n",
    "ax0.scatter(Kays,Z_ErrorRates_Testing)\n",
    "ax1.scatter(Kays,Z_ErrorRates_Training)\n",
    "ax1.set_xlabel('K')\n",
    "ax0.set_ylabel('error rate(%)')\n",
    "ax1.set_ylabel('error rate(%)')"
   ]
  },
  {
   "cell_type": "code",
   "execution_count": 96,
   "metadata": {
    "collapsed": false,
    "deletable": true,
    "editable": true
   },
   "outputs": [
    {
     "name": "stdout",
     "output_type": "stream",
     "text": [
      "[array([ 0.07]), array([ 8.71]), array([ 13.31])]\n",
      "[array([ 9.57]), array([ 9.51]), array([ 12.76])]\n"
     ]
    }
   ],
   "source": [
    "# Error rates for K = 1,10,100\n",
    "print [np.array(Z_ErrorRates_Training)[Kays==i] for i in [1,10,100]]\n",
    "print [np.array(Z_ErrorRates_Testing)[Kays==i] for i in [1,10,100]]"
   ]
  },
  {
   "cell_type": "markdown",
   "metadata": {
    "deletable": true,
    "editable": true
   },
   "source": [
    "# Log-transformed"
   ]
  },
  {
   "cell_type": "code",
   "execution_count": 10,
   "metadata": {
    "collapsed": true,
    "deletable": true,
    "editable": true
   },
   "outputs": [],
   "source": [
    "ED_TrainingLog = ED(xtrainLog,xtrainLog)"
   ]
  },
  {
   "cell_type": "code",
   "execution_count": 12,
   "metadata": {
    "collapsed": true,
    "deletable": true,
    "editable": true
   },
   "outputs": [],
   "source": [
    "# np.savetxt('EuclideanDistances_TrainingLog.dat',np.array(ED_TrainingLog))"
   ]
  },
  {
   "cell_type": "code",
   "execution_count": 13,
   "metadata": {
    "collapsed": true,
    "deletable": true,
    "editable": true
   },
   "outputs": [],
   "source": [
    "ED_TestingLog = ED(xtestLog,xtrainLog)"
   ]
  },
  {
   "cell_type": "code",
   "execution_count": 14,
   "metadata": {
    "collapsed": true,
    "deletable": true,
    "editable": true
   },
   "outputs": [],
   "source": [
    "# np.savetxt('EuclideanDistances_TestingLog.dat',np.array(ED_TestingLog))"
   ]
  },
  {
   "cell_type": "code",
   "execution_count": 15,
   "metadata": {
    "collapsed": true,
    "deletable": true,
    "editable": true
   },
   "outputs": [],
   "source": [
    "Log_ErrorRates_Testing = map(lambda k: error_rate(ED_TestingLog,ytest,k),Kays) "
   ]
  },
  {
   "cell_type": "code",
   "execution_count": 71,
   "metadata": {
    "collapsed": true,
    "deletable": true,
    "editable": true
   },
   "outputs": [],
   "source": [
    "Log_ErrorRates_Training = map(lambda k: error_rate(ED_TrainingLog,ytrain,k),Kays) "
   ]
  },
  {
   "cell_type": "code",
   "execution_count": 98,
   "metadata": {
    "collapsed": false,
    "deletable": true,
    "editable": true
   },
   "outputs": [
    {
     "data": {
      "text/plain": [
       "<matplotlib.text.Text at 0x7f8ec7b6d190>"
      ]
     },
     "execution_count": 98,
     "metadata": {},
     "output_type": "execute_result"
    },
    {
     "data": {
      "image/png": "[encoded data removed]",
      "text/plain": [
       "<matplotlib.figure.Figure at 0x7f8ec7c26f10>"
      ]
     },
     "metadata": {},
     "output_type": "display_data"
    }
   ],
   "source": [
    "g, [ax0,ax1] = plt.subplots(2, sharex=True, sharey=True)\n",
    "ax0.set_title('Error Rates for Log-transformed Testing Data')\n",
    "ax1.set_title('Error Rates for Log-transformed Training Data')\n",
    "ax0.scatter(Kays,Log_ErrorRates_Testing)\n",
    "ax1.scatter(Kays,Log_ErrorRates_Training)\n",
    "ax1.set_xlabel('K')\n",
    "ax0.set_ylabel('error rate(%)')\n",
    "ax1.set_ylabel('error rate(%)')"
   ]
  },
  {
   "cell_type": "code",
   "execution_count": 99,
   "metadata": {
    "collapsed": false,
    "deletable": true,
    "editable": true
   },
   "outputs": [
    {
     "name": "stdout",
     "output_type": "stream",
     "text": [
      "[array([ 0.07]), array([ 5.48]), array([ 8.97])]\n",
      "[array([ 7.49]), array([ 6.77]), array([ 8.85])]\n"
     ]
    }
   ],
   "source": [
    "# Error rates for K = 1,10,100\n",
    "print [np.array(Log_ErrorRates_Training)[Kays==i] for i in [1,10,100]]\n",
    "print [np.array(Log_ErrorRates_Testing)[Kays==i] for i in [1,10,100]]"
   ]
  },
  {
   "cell_type": "code",
   "execution_count": 100,
   "metadata": {
    "collapsed": false,
    "deletable": true,
    "editable": true
   },
   "outputs": [
    {
     "data": {
      "image/png": "[encoded data removed]",
      "text/plain": [
       "<matplotlib.figure.Figure at 0x7f8ec8286d50>"
      ]
     },
     "metadata": {},
     "output_type": "display_data"
    }
   ],
   "source": [
    "plt.figure(figsize=(10,5))\n",
    "plt.plot(Kays,Bin_ErrorRates_Training, ls = '--', color='b', label='Bin(train)')\n",
    "plt.plot(Kays,Bin_ErrorRates_Testing, color='b', label='Bin(test)')\n",
    "\n",
    "plt.plot(Kays,Z_ErrorRates_Testing, color='g', label='Z(test)')\n",
    "plt.plot(Kays,Z_ErrorRates_Training, ls = '--', color='g', label='Z(train)')\n",
    "\n",
    "plt.plot(Kays,Log_ErrorRates_Testing, color='r', label='Log(test)')\n",
    "plt.plot(Kays,Log_ErrorRates_Training, ls = '--', color='r', label='Log(train)')\n",
    "\n",
    "plt.xlabel('K')\n",
    "plt.ylabel('error rate (%)')\n",
    "# plt.xlim(1,5)\n",
    "# plt.semilogx()\n",
    "plt.legend(loc='best')\n",
    "plt.show()"
   ]
  },
  {
   "cell_type": "code",
   "execution_count": null,
   "metadata": {
    "collapsed": true,
    "deletable": true,
    "editable": true
   },
   "outputs": [],
   "source": []
  }
 ],
 "metadata": {
  "kernelspec": {
   "display_name": "Python 2",
   "language": "python",
   "name": "python2"
  },
  "language_info": {
   "codemirror_mode": {
    "name": "ipython",
    "version": 2
   },
   "file_extension": ".py",
   "mimetype": "text/x-python",
   "name": "python",
   "nbconvert_exporter": "python",
   "pygments_lexer": "ipython2",
   "version": "2.7.12"
  }
 },
 "nbformat": 4,
 "nbformat_minor": 0
}
