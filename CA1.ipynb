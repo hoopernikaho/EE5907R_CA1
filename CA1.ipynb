{
 "cells": [
  {
   "cell_type": "markdown",
   "metadata": {},
   "source": [
    "# EE5907 Programming Assignment\n",
    "Lee Jianwei\n",
    "A0018867"
   ]
  },
  {
   "cell_type": "code",
   "execution_count": 102,
   "metadata": {
    "collapsed": false
   },
   "outputs": [],
   "source": [
    "from __future__ import division\n",
    "import scipy.io\n",
    "import numpy as np"
   ]
  },
  {
   "cell_type": "markdown",
   "metadata": {},
   "source": [
    "# Data Processing"
   ]
  },
  {
   "cell_type": "markdown",
   "metadata": {},
   "source": [
    "### Load"
   ]
  },
  {
   "cell_type": "code",
   "execution_count": 35,
   "metadata": {
    "collapsed": false
   },
   "outputs": [],
   "source": [
    "d = scipy.io.loadmat('spamData.mat')\n",
    "# print d.items()"
   ]
  },
  {
   "cell_type": "code",
   "execution_count": 136,
   "metadata": {
    "collapsed": false
   },
   "outputs": [],
   "source": [
    "ytest = d['ytest'].flatten()\n",
    "ytrain = d['ytrain'].flatten()\n",
    "xtest = d['Xtest']\n",
    "xtrain = d['Xtrain']"
   ]
  },
  {
   "cell_type": "markdown",
   "metadata": {},
   "source": [
    "### Binarize"
   ]
  },
  {
   "cell_type": "code",
   "execution_count": 76,
   "metadata": {
    "collapsed": false
   },
   "outputs": [],
   "source": [
    "def binarize(array):\n",
    "    \"\"\"binarise a 1D array according to its sign\"\"\"\n",
    "    return np.array([x>0 for x in array]).astype('uint8')"
   ]
  },
  {
   "cell_type": "code",
   "execution_count": 278,
   "metadata": {
    "collapsed": false
   },
   "outputs": [
    {
     "name": "stdout",
     "output_type": "stream",
     "text": [
      "[[0 0 0 ..., 1 1 1]\n",
      " [0 0 0 ..., 1 1 1]\n",
      " [1 1 1 ..., 1 1 1]\n",
      " ..., \n",
      " [0 1 1 ..., 1 1 1]\n",
      " [0 0 0 ..., 1 1 1]\n",
      " [0 0 0 ..., 1 1 1]]\n",
      "(3065, 57)\n",
      "[0 0 1 ..., 0 0 0]\n",
      "57\n"
     ]
    }
   ],
   "source": [
    "xtrainBin = binarize(xtrain)\n",
    "xtestBin = binarize(xtest)\n",
    "print xtrainBin\n",
    "print xtrainBin.shape\n",
    "\n",
    "print xtrainBin[:,0]\n",
    "print len(xtrain[0])"
   ]
  },
  {
   "cell_type": "code",
   "execution_count": 147,
   "metadata": {
    "collapsed": false
   },
   "outputs": [
    {
     "data": {
      "text/plain": [
       "(3062, 57)"
      ]
     },
     "execution_count": 147,
     "metadata": {},
     "output_type": "execute_result"
    }
   ],
   "source": []
  },
  {
   "cell_type": "code",
   "execution_count": 146,
   "metadata": {
    "collapsed": false
   },
   "outputs": [
    {
     "name": "stdout",
     "output_type": "stream",
     "text": [
      "[ 0.23099511  0.20130506  0.41207178  0.01076672  0.38727569  0.21305057\n",
      "  0.17879282  0.1725938   0.16704731  0.28548124  0.15693312  0.50799347\n",
      "  0.18336052  0.0776509   0.07340946  0.27699837  0.20587276  0.22871126\n",
      "  0.70897227  0.09331158  0.53278956  0.02414356  0.14714519  0.15921697\n",
      "  0.23621533  0.17879282  0.16835237  0.09820555  0.08058728  0.10081566\n",
      "  0.06329527  0.04274062  0.09233279  0.04502447  0.10473083  0.13115824\n",
      "  0.18499184  0.01924959  0.08646003  0.10375204  0.03458401  0.07895595\n",
      "  0.08548124  0.0721044   0.28613377  0.11517129  0.01533442  0.04535073\n",
      "  0.17553018  0.58858075  0.1177814   0.49690049  0.30114192  0.16443719\n",
      "  1.          1.          1.        ]\n",
      "[ 0.22460938  0.18294271  0.40690104  0.00911458  0.36523438  0.22526042\n",
      "  0.16861979  0.19205729  0.16992188  0.27799479  0.1484375   0.5\n",
      "  0.18880208  0.07747396  0.07226562  0.25520833  0.21614583  0.21940104\n",
      "  0.68619792  0.08984375  0.51432292  0.02799479  0.1484375   0.16080729\n",
      "  0.23828125  0.17122396  0.171875    0.10546875  0.08138021  0.10416667\n",
      "  0.06445312  0.04817708  0.07942708  0.05013021  0.10677083  0.12825521\n",
      "  0.17057292  0.015625    0.07747396  0.08789062  0.02734375  0.06445312\n",
      "  0.07356771  0.06901042  0.28255208  0.10677083  0.01041667  0.04166667\n",
      "  0.1640625   0.59309896  0.109375    0.47851562  0.31054688  0.16015625\n",
      "  1.          1.          1.        ]\n"
     ]
    }
   ],
   "source": [
    "print np.mean(xtrainBin, axis=0)\n",
    "print np.mean(xtestBin, axis=0)"
   ]
  },
  {
   "cell_type": "code",
   "execution_count": 153,
   "metadata": {
    "collapsed": false
   },
   "outputs": [
    {
     "name": "stdout",
     "output_type": "stream",
     "text": [
      "(3065, 54)\n"
     ]
    }
   ],
   "source": [
    "# remove last 3 features which doesn't help in the binarized data case\n",
    "xtrainBin = np.delete(xtrainBin,np.s_[-3:],axis=1)\n",
    "xtestBin = np.delete(xtestBin,np.s_[-3:],axis=1)\n",
    "print xtrainBin.shape"
   ]
  },
  {
   "cell_type": "markdown",
   "metadata": {},
   "source": [
    "# Q1"
   ]
  },
  {
   "cell_type": "code",
   "execution_count": 155,
   "metadata": {
    "collapsed": false
   },
   "outputs": [
    {
     "name": "stdout",
     "output_type": "stream",
     "text": [
      "0.389885807504\n"
     ]
    }
   ],
   "source": [
    "classMLE = np.average(ytrain)\n",
    "print classMLE"
   ]
  },
  {
   "cell_type": "code",
   "execution_count": 156,
   "metadata": {
    "collapsed": false
   },
   "outputs": [],
   "source": [
    "alphas = np.arange(0,100.5,0.5)"
   ]
  },
  {
   "cell_type": "code",
   "execution_count": 243,
   "metadata": {
    "collapsed": false
   },
   "outputs": [],
   "source": [
    "def N_feature_trainBin(spam): # N_jc in notes\n",
    "    \"\"\"\n",
    "    returns an array of N's, \n",
    "    each N is the total number of times a binarised feature appears\n",
    "    in the training data\n",
    "    :params spam: either 1 (spam) or 0 \n",
    "    \"\"\"\n",
    "    return np.sum(xtrainBin[ytrain==spam],axis=0)\n",
    "\n",
    "def N_class_train(spam): # N_c in notes\n",
    "    \"\"\"\n",
    "    returns the total number of mails categorised as spam or not.\n",
    "    :params spam: either 1 (spam) or 0 \n",
    "    \"\"\"\n",
    "    return len(ytrain[ytrain==spam])\n",
    "\n",
    "def posterior_predictive_mean(spam, alpha): # theta_jc in notes\n",
    "    \"\"\"\n",
    "    returns an array of posterior predictive means\n",
    "    :params spam: either 1 (spam) or 0 \n",
    "    :params alpha: hyperparameter alpha for beta distribution\n",
    "    \"\"\"\n",
    "    return (N_feature_trainBin(spam)+alpha)/(N_class_train(spam)+2*alpha)"
   ]
  },
  {
   "cell_type": "code",
   "execution_count": 237,
   "metadata": {
    "collapsed": false
   },
   "outputs": [
    {
     "data": {
      "text/plain": [
       "array([ 290,  203,  528,    6,  422,  215,   28,  135,  161,  331,  106,\n",
       "        808,  224,   88,   33,  175,  183,  246, 1106,   33,  663,   13,\n",
       "         59,   39,  693,  531,  513,  284,  241,  294,  192,  129,  241,\n",
       "        132,  294,  328,  495,   37,  225,  171,  105,  232,  207,  189,\n",
       "        554,  310,   35,  127,  362, 1032,  272,  520,  204,  162], dtype=uint64)"
      ]
     },
     "execution_count": 237,
     "metadata": {},
     "output_type": "execute_result"
    }
   ],
   "source": [
    "N_feature_trainBin(0)"
   ]
  },
  {
   "cell_type": "code",
   "execution_count": 280,
   "metadata": {
    "collapsed": false
   },
   "outputs": [
    {
     "data": {
      "text/plain": [
       "3065"
      ]
     },
     "execution_count": 280,
     "metadata": {},
     "output_type": "execute_result"
    }
   ],
   "source": [
    "N_class_train(1)+N_class_train(0)"
   ]
  },
  {
   "cell_type": "code",
   "execution_count": 288,
   "metadata": {
    "collapsed": false
   },
   "outputs": [
    {
     "data": {
      "text/plain": [
       "array([ 0.35004177,  0.34670008,  0.61487051,  0.02339181,  0.63993317,\n",
       "        0.36675021,  0.4352548 ,  0.32999165,  0.2940685 ,  0.45530493,\n",
       "        0.31411863,  0.62656642,  0.28320802,  0.12614871,  0.16123642,\n",
       "        0.56390977,  0.37510443,  0.38095238,  0.89223058,  0.21219716,\n",
       "        0.81119465,  0.05179616,  0.3283208 ,  0.37593985,  0.0267335 ,\n",
       "        0.01503759,  0.00334169,  0.01503759,  0.00584795,  0.01336675,\n",
       "        0.00250627,  0.00250627,  0.03592314,  0.00584795,  0.02339181,\n",
       "        0.06265664,  0.0609858 ,  0.0192147 ,  0.0342523 ,  0.12364244,\n",
       "        0.00167084,  0.00918964,  0.04678363,  0.02756892,  0.27067669,\n",
       "        0.03675856,  0.01086048,  0.01086048,  0.14786967,  0.64578112,\n",
       "        0.07518797,  0.83876358,  0.60150376,  0.28654971,  0.99916458,\n",
       "        0.99916458,  0.99916458])"
      ]
     },
     "execution_count": 288,
     "metadata": {},
     "output_type": "execute_result"
    }
   ],
   "source": [
    "posterior_predictive_mean(1,1)"
   ]
  },
  {
   "cell_type": "code",
   "execution_count": 284,
   "metadata": {
    "collapsed": false
   },
   "outputs": [
    {
     "name": "stdout",
     "output_type": "stream",
     "text": [
      "[ 0.23099511  0.20130506  0.41207178  0.01076672  0.38727569  0.21305057\n",
      "  0.17879282  0.1725938   0.16704731  0.28548124  0.15693312  0.50799347\n",
      "  0.18336052  0.0776509   0.07340946  0.27699837  0.20587276  0.22871126\n",
      "  0.70897227  0.09331158  0.53278956  0.02414356  0.14714519  0.15921697\n",
      "  0.23621533  0.17879282  0.16835237  0.09820555  0.08058728  0.10081566\n",
      "  0.06329527  0.04274062  0.09233279  0.04502447  0.10473083  0.13115824\n",
      "  0.18499184  0.01924959  0.08646003  0.10375204  0.03458401  0.07895595\n",
      "  0.08548124  0.0721044   0.28613377  0.11517129  0.01533442  0.04535073\n",
      "  0.17553018  0.58858075  0.1177814   0.49690049  0.30114192  0.16443719\n",
      "  1.          1.          1.        ]\n"
     ]
    }
   ],
   "source": [
    "print np.mean(xtrainBin, axis=0)"
   ]
  },
  {
   "cell_type": "code",
   "execution_count": 289,
   "metadata": {
    "collapsed": false
   },
   "outputs": [],
   "source": [
    "def classify(email, alpha):\n",
    "    \"\"\"\n",
    "    classifies each email according to the posterior predictive means of the features\n",
    "    :params email: 57-element binarised array\n",
    "    :params posterior_predictive_mean: 57-element array of the posterior means derived from a particular alpha and the training data\n",
    "    \"\"\"\n",
    "    N_features = len(email)\n",
    "    \n",
    "    SecondTerm_Spam = 0\n",
    "    SecondTerm_notSpam = 0\n",
    "    \n",
    "    for j in np.arange(N_features): # second term in p(y=c | x, T) in notes\n",
    "        \n",
    "        SecondTerm_Spam += (email[j]==1)*np.log(posterior_predictive_mean(1,alpha)[j]) +\\\n",
    "        (email[j]==0)*np.log(1-posterior_predictive_mean(1,alpha)[j])\n",
    "        \n",
    "        SecondTerm_notSpam += (email[j]==1)*np.log(posterior_predictive_mean(0,alpha)[j]) +\\\n",
    "        (email[j]==0)*np.log(1-posterior_predictive_mean(0,alpha)[j])\n",
    "        \n",
    "    LogProb_Spam = np.log(classMLE) + SecondTerm_Spam\n",
    "    \n",
    "    LogProb_notSpam = np.log(1-classMLE) + SecondTerm_notSpam\n",
    "    \n",
    "    class_ = (LogProb_Spam >= LogProb_notSpam).astype('uint8')\n",
    "#     print class_\n",
    "    return class_"
   ]
  },
  {
   "cell_type": "code",
   "execution_count": 290,
   "metadata": {
    "collapsed": false
   },
   "outputs": [
    {
     "name": "stdout",
     "output_type": "stream",
     "text": [
      "0\n",
      "0\n"
     ]
    }
   ],
   "source": [
    "print classify(xtestBin[1],1)\n",
    "print ytest[0]"
   ]
  },
  {
   "cell_type": "code",
   "execution_count": 269,
   "metadata": {
    "collapsed": false
   },
   "outputs": [],
   "source": [
    "def error_rate(alpha):\n",
    "    N_errors = 0\n",
    "    for idx,mail in enumerate(xtestBin):\n",
    "        N_errors += np.logical_xor(classify(mail,alpha), ytest[idx])\n",
    "    return N_errors/len(xtestBin)\n",
    "#         print classify(mail,alpha), ytest[idx]\n",
    "#     return [np.abs(classify(mail,posterior_predictive_mean(alpha))-ytest[idx]) for idx,mail in enumerate(xtestBin)]"
   ]
  },
  {
   "cell_type": "code",
   "execution_count": 291,
   "metadata": {
    "collapsed": false
   },
   "outputs": [
    {
     "data": {
      "text/plain": [
       "0.12369791666666667"
      ]
     },
     "execution_count": 291,
     "metadata": {},
     "output_type": "execute_result"
    }
   ],
   "source": [
    "error_rate(50)"
   ]
  },
  {
   "cell_type": "code",
   "execution_count": null,
   "metadata": {
    "collapsed": true
   },
   "outputs": [],
   "source": [
    "error_rate(50)"
   ]
  }
 ],
 "metadata": {
  "kernelspec": {
   "display_name": "Python 2",
   "language": "python",
   "name": "python2"
  }
 },
 "nbformat": 4,
 "nbformat_minor": 0
}
