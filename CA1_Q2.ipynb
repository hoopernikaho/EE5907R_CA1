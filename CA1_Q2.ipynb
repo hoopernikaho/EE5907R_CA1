{
 "cells": [
  {
   "cell_type": "markdown",
   "metadata": {
    "deletable": true,
    "editable": true
   },
   "source": [
    "# EE5907 Programming Assignment Q2\n",
    "Lee Jianwei\n",
    "A0018867"
   ]
  },
  {
   "cell_type": "code",
   "execution_count": 59,
   "metadata": {
    "collapsed": false,
    "deletable": true,
    "editable": true
   },
   "outputs": [],
   "source": [
    "from __future__ import division\n",
    "import scipy.io\n",
    "from scipy.stats import norm\n",
    "import numpy as np\n",
    "import matplotlib.pyplot as plt\n",
    "\n",
    "from multiprocessing import Pool\n",
    "np.set_printoptions(precision=2, suppress=True)"
   ]
  },
  {
   "cell_type": "markdown",
   "metadata": {
    "deletable": true,
    "editable": true
   },
   "source": [
    "# Data Processing"
   ]
  },
  {
   "cell_type": "markdown",
   "metadata": {
    "deletable": true,
    "editable": true
   },
   "source": [
    "### Load"
   ]
  },
  {
   "cell_type": "code",
   "execution_count": 2,
   "metadata": {
    "collapsed": false,
    "deletable": true,
    "editable": true
   },
   "outputs": [],
   "source": [
    "d = scipy.io.loadmat('spamData.mat')\n",
    "ytest = d['ytest'].flatten()\n",
    "ytrain = d['ytrain'].flatten()\n",
    "xtest = d['Xtest']\n",
    "xtrain = d['Xtrain']"
   ]
  },
  {
   "cell_type": "code",
   "execution_count": 18,
   "metadata": {
    "collapsed": false
   },
   "outputs": [],
   "source": [
    "#z-normalise features\n",
    "def znorm1D(array1D):\n",
    "    m = np.mean(array1D)\n",
    "    s = np.std(array1D)\n",
    "    return np.array((array1D-m)/s)\n",
    "def znorm2D(array2D):\n",
    "    \"\"\"znorm along columns of 2D array\"\"\"\n",
    "    znormed_columns = np.array([znorm1D(c) for c in array2D.T]) # each column in array2D is a row (called c) in array2D.T\n",
    "    return znormed_columns.T\n",
    "xtrainZ = znorm2D(xtrain)\n",
    "xtestZ = znorm2D(xtest)"
   ]
  },
  {
   "cell_type": "code",
   "execution_count": 56,
   "metadata": {
    "collapsed": false
   },
   "outputs": [
    {
     "name": "stdout",
     "output_type": "stream",
     "text": [
      "5.89729525115e-19 1.0\n"
     ]
    }
   ],
   "source": [
    "# test znorm works:\n",
    "print np.mean(xtrainZ.T), np.std(xtrainZ.T)"
   ]
  },
  {
   "cell_type": "code",
   "execution_count": 164,
   "metadata": {
    "collapsed": false
   },
   "outputs": [],
   "source": [
    "#log-transform features\n",
    "def log2D(array):\n",
    "    \"\"\"array: list of emails, each 57 features long\"\"\"\n",
    "    return np.array([np.log(x+0.1) for x in array]).astype('uint8') #x is a 57 element array\n",
    "xtrainLog_ = log2D(xtrain)\n",
    "xtestLog_ = log2D(xtest)"
   ]
  },
  {
   "cell_type": "markdown",
   "metadata": {
    "deletable": true,
    "editable": true
   },
   "source": [
    "# Z-norm"
   ]
  },
  {
   "cell_type": "markdown",
   "metadata": {},
   "source": [
    "## MLE from training Data"
   ]
  },
  {
   "cell_type": "code",
   "execution_count": 26,
   "metadata": {
    "collapsed": true,
    "deletable": true,
    "editable": true
   },
   "outputs": [],
   "source": [
    "classMLE = np.average(ytrain)"
   ]
  },
  {
   "cell_type": "code",
   "execution_count": 60,
   "metadata": {
    "collapsed": true,
    "deletable": true,
    "editable": true
   },
   "outputs": [],
   "source": [
    "# training data feature MLE\n",
    "xtrainZ_mean_spam = np.mean(xtrainZ[ytrain==1])\n",
    "xtrainZ_sigma_spam = np.std(xtrainZ[ytrain==1])\n",
    "xtrainZ_mean_notspam = np.mean(xtrainZ[ytrain==0])\n",
    "xtrainZ_sigma_notspam = np.std(xtrainZ[ytrain==0])"
   ]
  },
  {
   "cell_type": "code",
   "execution_count": 109,
   "metadata": {
    "collapsed": false
   },
   "outputs": [],
   "source": [
    " def classifyZ(email):\n",
    "    \"\"\"\n",
    "    BASED ON MLE\n",
    "    classifies each email according to a gaussian likelihood, \n",
    "    parameterised by the plug-in estimate, which is the training data feature MLE \n",
    "    :params email: 57-element binarised array\n",
    "    \"\"\"\n",
    "    N_features = len(email)\n",
    "    \n",
    "    SecondTerm_Spam = 0\n",
    "    SecondTerm_notSpam = 0\n",
    "    \n",
    "    for j in np.arange(N_features):\n",
    "\n",
    "        SecondTerm_Spam += np.log(norm.pdf(email[j],\n",
    "                                  xtrainZ_mean_spam,\n",
    "                                  xtrainZ_sigma_spam))\n",
    "\n",
    "        SecondTerm_notSpam += np.log(norm.pdf(email[j],\n",
    "                                     xtrainZ_mean_notspam,\n",
    "                                     xtrainZ_sigma_notspam))\n",
    "    \n",
    "    LogProb_Spam = np.log(classMLE) + SecondTerm_Spam\n",
    "    \n",
    "    LogProb_notSpam = np.log(1-classMLE) + SecondTerm_notSpam\n",
    "    \n",
    "    class_ = (LogProb_Spam >= LogProb_notSpam).astype('uint8')\n",
    "    return class_"
   ]
  },
  {
   "cell_type": "code",
   "execution_count": 135,
   "metadata": {
    "collapsed": false
   },
   "outputs": [],
   "source": [
    "def error_rate_Z(emails,categories):\n",
    "    N_errors = 0\n",
    "    \n",
    "    for idx,mail in enumerate(emails):\n",
    "            N_errors += np.logical_xor(classifyZ(mail), categories[idx])        \n",
    "\n",
    "    return N_errors/len(emails)"
   ]
  },
  {
   "cell_type": "code",
   "execution_count": 131,
   "metadata": {
    "collapsed": false
   },
   "outputs": [
    {
     "name": "stdout",
     "output_type": "stream",
     "text": [
      "3065\n"
     ]
    },
    {
     "name": "stderr",
     "output_type": "stream",
     "text": [
      "/usr/local/lib/python2.7/dist-packages/ipykernel/__main__.py:17: RuntimeWarning: divide by zero encountered in log\n",
      "/usr/local/lib/python2.7/dist-packages/ipykernel/__main__.py:21: RuntimeWarning: divide by zero encountered in log\n"
     ]
    }
   ],
   "source": [
    "error_rates_training_Z = error_rate_Z(xtrainZ, ytrain)"
   ]
  },
  {
   "cell_type": "code",
   "execution_count": 132,
   "metadata": {
    "collapsed": false
   },
   "outputs": [
    {
     "data": {
      "text/plain": [
       "0.51321370309951064"
      ]
     },
     "execution_count": 132,
     "metadata": {},
     "output_type": "execute_result"
    }
   ],
   "source": [
    "error_rates_training_Z"
   ]
  },
  {
   "cell_type": "code",
   "execution_count": 128,
   "metadata": {
    "collapsed": false
   },
   "outputs": [
    {
     "name": "stdout",
     "output_type": "stream",
     "text": [
      "1536\n"
     ]
    }
   ],
   "source": [
    "error_rates_test_Z = error_rate_Z(xtestZ, ytest)"
   ]
  },
  {
   "cell_type": "code",
   "execution_count": 130,
   "metadata": {
    "collapsed": false
   },
   "outputs": [
    {
     "data": {
      "text/plain": [
       "0.52018229166666663"
      ]
     },
     "execution_count": 130,
     "metadata": {},
     "output_type": "execute_result"
    }
   ],
   "source": [
    "error_rates_test_Z"
   ]
  },
  {
   "cell_type": "markdown",
   "metadata": {},
   "source": [
    "## Log-Transform"
   ]
  },
  {
   "cell_type": "code",
   "execution_count": 166,
   "metadata": {
    "collapsed": true
   },
   "outputs": [],
   "source": [
    "# training data feature MLE\n",
    "xtrainLog_mean_spam = np.mean(xtrainLog[ytrain==1])\n",
    "xtrainLog_sigma_spam = np.std(xtrainLog[ytrain==1])\n",
    "xtrainLog_mean_notspam = np.mean(xtrainLog[ytrain==0])\n",
    "xtrainLog_sigma_notspam = np.std(xtrainLog[ytrain==0])"
   ]
  },
  {
   "cell_type": "code",
   "execution_count": 167,
   "metadata": {
    "collapsed": true
   },
   "outputs": [],
   "source": [
    " def classifyLog(email):\n",
    "    \"\"\"\n",
    "    BASED ON MLE\n",
    "    classifies each email according to a gaussian likelihood, \n",
    "    parameterised by the plug-in estimate, which is the training data feature MLE \n",
    "    :params email: 57-element binarised array\n",
    "    \"\"\"\n",
    "    N_features = len(email)\n",
    "    \n",
    "    SecondTerm_Spam = 0\n",
    "    SecondTerm_notSpam = 0\n",
    "    \n",
    "    for j in np.arange(N_features):\n",
    "\n",
    "        SecondTerm_Spam += np.log(norm.pdf(email[j],\n",
    "                                  xtrainLog_mean_spam,\n",
    "                                  xtrainLog_sigma_spam))\n",
    "\n",
    "        SecondTerm_notSpam += np.log(norm.pdf(email[j],\n",
    "                                     xtrainLog_mean_notspam,\n",
    "                                     xtrainLog_sigma_notspam))\n",
    "    \n",
    "    LogProb_Spam = np.log(classMLE) + SecondTerm_Spam\n",
    "    \n",
    "    LogProb_notSpam = np.log(1-classMLE) + SecondTerm_notSpam\n",
    "    \n",
    "    class_ = (LogProb_Spam >= LogProb_notSpam).astype('uint8')\n",
    "    return class_"
   ]
  },
  {
   "cell_type": "code",
   "execution_count": 168,
   "metadata": {
    "collapsed": true
   },
   "outputs": [],
   "source": [
    "def error_rate_Log(emails,categories):\n",
    "    N_errors = 0\n",
    "    \n",
    "    for idx,mail in enumerate(emails):\n",
    "            N_errors += np.logical_xor(classifyLog(mail), categories[idx])        \n",
    "\n",
    "    return N_errors/len(emails)"
   ]
  },
  {
   "cell_type": "code",
   "execution_count": 169,
   "metadata": {
    "collapsed": true
   },
   "outputs": [],
   "source": [
    "error_rates_training_Log = error_rate_Log(xtrainLog, ytrain)"
   ]
  },
  {
   "cell_type": "code",
   "execution_count": 170,
   "metadata": {
    "collapsed": false
   },
   "outputs": [
    {
     "data": {
      "text/plain": [
       "0.30734094616639479"
      ]
     },
     "execution_count": 170,
     "metadata": {},
     "output_type": "execute_result"
    }
   ],
   "source": [
    "error_rates_training_Log"
   ]
  },
  {
   "cell_type": "code",
   "execution_count": 171,
   "metadata": {
    "collapsed": true
   },
   "outputs": [],
   "source": [
    "error_rates_test_Log = error_rate_Log(xtestLog, ytest)"
   ]
  },
  {
   "cell_type": "code",
   "execution_count": 172,
   "metadata": {
    "collapsed": false
   },
   "outputs": [
    {
     "data": {
      "text/plain": [
       "0.294921875"
      ]
     },
     "execution_count": 172,
     "metadata": {},
     "output_type": "execute_result"
    }
   ],
   "source": [
    "error_rates_test_Log"
   ]
  },
  {
   "cell_type": "code",
   "execution_count": 183,
   "metadata": {
    "collapsed": false
   },
   "outputs": [
    {
     "data": {
      "image/png": "[encoded data removed]",
      "text/plain": [
       "<matplotlib.figure.Figure at 0x7f0003862d10>"
      ]
     },
     "metadata": {},
     "output_type": "display_data"
    }
   ],
   "source": [
    "plt.figure()\n",
    "plt.hist(xtrainLog[:,5][ytrain==0],1000);\n",
    "plt.show()"
   ]
  },
  {
   "cell_type": "code",
   "execution_count": null,
   "metadata": {
    "collapsed": true
   },
   "outputs": [],
   "source": []
  }
 ],
 "metadata": {
  "kernelspec": {
   "display_name": "Python 2",
   "language": "python",
   "name": "python2"
  },
  "language_info": {
   "codemirror_mode": {
    "name": "ipython",
    "version": 2
   },
   "file_extension": ".py",
   "mimetype": "text/x-python",
   "name": "python",
   "nbconvert_exporter": "python",
   "pygments_lexer": "ipython2",
   "version": "2.7.12"
  }
 },
 "nbformat": 4,
 "nbformat_minor": 2
}
