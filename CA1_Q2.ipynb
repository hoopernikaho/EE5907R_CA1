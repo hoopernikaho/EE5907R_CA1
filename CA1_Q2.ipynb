{
 "cells": [
  {
   "cell_type": "markdown",
   "metadata": {
    "deletable": true,
    "editable": true
   },
   "source": [
    "# EE5907 Programming Assignment Q2\n",
    "Lee Jianwei\n",
    "A0018867"
   ]
  },
  {
   "cell_type": "code",
   "execution_count": 1,
   "metadata": {
    "collapsed": false,
    "deletable": true,
    "editable": true
   },
   "outputs": [],
   "source": [
    "from __future__ import division\n",
    "import scipy.io\n",
    "from scipy.stats import norm\n",
    "import numpy as np\n",
    "import matplotlib.pyplot as plt\n",
    "\n",
    "from multiprocessing import Pool\n",
    "np.set_printoptions(precision=2, suppress=True)"
   ]
  },
  {
   "cell_type": "markdown",
   "metadata": {
    "deletable": true,
    "editable": true
   },
   "source": [
    "# Data Processing"
   ]
  },
  {
   "cell_type": "markdown",
   "metadata": {
    "deletable": true,
    "editable": true
   },
   "source": [
    "### Load"
   ]
  },
  {
   "cell_type": "code",
   "execution_count": 2,
   "metadata": {
    "collapsed": false,
    "deletable": true,
    "editable": true
   },
   "outputs": [],
   "source": [
    "d = scipy.io.loadmat('spamData.mat')\n",
    "ytest = d['ytest'].flatten()\n",
    "ytrain = d['ytrain'].flatten()\n",
    "xtest = d['Xtest']\n",
    "xtrain = d['Xtrain']"
   ]
  },
  {
   "cell_type": "code",
   "execution_count": 3,
   "metadata": {
    "collapsed": false,
    "deletable": true,
    "editable": true
   },
   "outputs": [],
   "source": [
    "#z-normalise features\n",
    "def znorm1D(array1D):\n",
    "    m = np.mean(array1D)\n",
    "    s = np.std(array1D)\n",
    "    return np.array((array1D-m)/s)\n",
    "def znorm2D(array2D):\n",
    "    \"\"\"znorm along columns of 2D array\"\"\"\n",
    "    znormed_columns = np.array([znorm1D(c) for c in array2D.T]) # each column in array2D is a row (called c) in array2D.T\n",
    "    return znormed_columns.T\n",
    "xtrainZ = znorm2D(xtrain)\n",
    "xtestZ = znorm2D(xtest)"
   ]
  },
  {
   "cell_type": "code",
   "execution_count": 113,
   "metadata": {
    "collapsed": false,
    "deletable": true,
    "editable": true
   },
   "outputs": [
    {
     "name": "stdout",
     "output_type": "stream",
     "text": [
      "-8.11386484555e-18 1.0\n"
     ]
    }
   ],
   "source": [
    "# test znorm works:\n",
    "f = 35 # feature number 10\n",
    "print np.mean(xtrainZ[:,f]), np.std(xtrainZ[:,f])"
   ]
  },
  {
   "cell_type": "code",
   "execution_count": 6,
   "metadata": {
    "collapsed": false,
    "deletable": true,
    "editable": true
   },
   "outputs": [],
   "source": [
    "#log-transform features\n",
    "def log2D(array):\n",
    "    \"\"\"array: list of emails, each 57 features long\"\"\"\n",
    "    return np.array([np.log(x+0.1) for x in array]) #x is a 57 element array\n",
    "xtrainLog_ = log2D(xtrain)\n",
    "xtestLog_ = log2D(xtest)\n",
    "xtrainLog = xtrainLog_\n",
    "xtestLog = xtestLog_"
   ]
  },
  {
   "cell_type": "code",
   "execution_count": 7,
   "metadata": {
    "collapsed": false,
    "deletable": true,
    "editable": true
   },
   "outputs": [
    {
     "data": {
      "text/plain": [
       "array([[-2.3 , -2.3 , -2.3 , ...,  0.43,  1.81,  3.5 ],\n",
       "       [-2.3 , -2.3 , -2.3 , ...,  0.1 ,  0.1 ,  1.63],\n",
       "       [-1.71, -1.71, -0.15, ...,  2.03,  6.51,  7.25],\n",
       "       ..., \n",
       "       [-2.3 , -1.61, -0.92, ...,  2.11,  5.65,  7.54],\n",
       "       [-2.3 , -2.3 , -2.3 , ...,  1.36,  2.41,  4.11],\n",
       "       [-2.3 , -2.3 , -2.3 , ...,  2.31,  5.53,  6.67]])"
      ]
     },
     "execution_count": 7,
     "metadata": {},
     "output_type": "execute_result"
    }
   ],
   "source": [
    "xtrainLog_"
   ]
  },
  {
   "cell_type": "markdown",
   "metadata": {
    "deletable": true,
    "editable": true
   },
   "source": [
    "# Z-norm"
   ]
  },
  {
   "cell_type": "markdown",
   "metadata": {
    "deletable": true,
    "editable": true
   },
   "source": [
    "## MLE from training Data"
   ]
  },
  {
   "cell_type": "code",
   "execution_count": 12,
   "metadata": {
    "collapsed": true,
    "deletable": true,
    "editable": true
   },
   "outputs": [],
   "source": [
    "classMLE = np.average(ytrain)"
   ]
  },
  {
   "cell_type": "code",
   "execution_count": null,
   "metadata": {
    "collapsed": true,
    "deletable": true,
    "editable": true
   },
   "outputs": [],
   "source": [
    "%matplotlib notebook\n",
    "i = 36\n",
    "plt.figure()\n",
    "plt.hist(xtrainZ[:,i][ytrain==1],100,\n",
    "#          range=(np.min(xtrainZ[ytrain==1][:,i]),np.max(xtrainZ[ytrain==1][:,i]))\n",
    "        );\n",
    "plt.axvline(xtrainZ_mean_spam[i])\n",
    "# plt.semilogx()\n",
    "plt.show()"
   ]
  },
  {
   "cell_type": "code",
   "execution_count": 192,
   "metadata": {
    "collapsed": false,
    "deletable": true,
    "editable": true
   },
   "outputs": [],
   "source": [
    "# training data feature MLE\n",
    "xtrainZ_mean_spam = np.mean(xtrainZ[ytrain==1],axis=0)\n",
    "xtrainZ_sigma_spam = np.std(xtrainZ[ytrain==1],axis=0)\n",
    "xtrainZ_mean_notspam = np.mean(xtrainZ[ytrain==0],axis=0)\n",
    "xtrainZ_sigma_notspam = np.std(xtrainZ[ytrain==0],axis=0)"
   ]
  },
  {
   "cell_type": "code",
   "execution_count": 214,
   "metadata": {
    "collapsed": false,
    "deletable": true,
    "editable": true
   },
   "outputs": [
    {
     "name": "stdout",
     "output_type": "stream",
     "text": [
      "(3065, 57) 57\n"
     ]
    }
   ],
   "source": [
    "print xtrainZ.shape, len(xtrainZ_mean_spam)"
   ]
  },
  {
   "cell_type": "code",
   "execution_count": 194,
   "metadata": {
    "collapsed": true,
    "deletable": true,
    "editable": true
   },
   "outputs": [],
   "source": [
    "def pdf(x,mean,sigma):\n",
    "    z = (x-mean)/sigma\n",
    "    return 1/np.sqrt(2*3.142)/sigma*np.exp(-z**2/2)"
   ]
  },
  {
   "cell_type": "code",
   "execution_count": 195,
   "metadata": {
    "collapsed": false,
    "deletable": true,
    "editable": true
   },
   "outputs": [],
   "source": [
    " def classifyZ(email):\n",
    "    \"\"\"\n",
    "    BASED ON MLE\n",
    "    classifies each email according to a gaussian likelihood, \n",
    "    parameterised by the plug-in estimate, which is the training data feature MLE \n",
    "    :params email: 57-element Z-transformed array\n",
    "    \"\"\"\n",
    "    N_features = len(email)\n",
    "    \n",
    "    SecondTerm_Spam = 0\n",
    "    SecondTerm_notSpam = 0\n",
    "    \n",
    "    for j in np.arange(N_features):\n",
    "\n",
    "#         SecondTerm_Spam += np.log(pdf(email[j],\n",
    "#                                   xtrainZ_mean_spam[j],\n",
    "#                                   xtrainZ_sigma_spam[j]))\n",
    "\n",
    "#         SecondTerm_notSpam += np.log(pdf(email[j],\n",
    "#                                      xtrainZ_mean_notspam[j],\n",
    "#                                      xtrainZ_sigma_notspam[j]))\n",
    "        \"\"\"Log Likelihood\"\"\"\n",
    "        SecondTerm_Spam += -np.log(xtrainZ_sigma_spam[j])-((email[j]-xtrainZ_mean_spam[j])/(xtrainZ_sigma_spam[j]))**2/2\n",
    "        SecondTerm_notSpam += -np.log(xtrainZ_sigma_notspam[j])-((email[j]-xtrainZ_mean_notspam[j])/(xtrainZ_sigma_notspam[j]))**2/2\n",
    "    \n",
    "    LogProb_Spam = np.log(classMLE) + SecondTerm_Spam\n",
    "    \n",
    "    LogProb_notSpam = np.log(1-classMLE) + SecondTerm_notSpam\n",
    "    \n",
    "    class_ = (LogProb_Spam > LogProb_notSpam).astype('uint8')\n",
    "    return class_"
   ]
  },
  {
   "cell_type": "code",
   "execution_count": 196,
   "metadata": {
    "collapsed": false,
    "deletable": true,
    "editable": true
   },
   "outputs": [],
   "source": [
    "def error_rate_Z(emails,categories):\n",
    "    N_errors = 0\n",
    "    count = 0\n",
    "    for idx,mail in enumerate(emails):\n",
    "        try:\n",
    "            N_errors += np.logical_xor(classifyZ(mail), categories[idx])        \n",
    "            count += 1\n",
    "        except:\n",
    "            print idx\n",
    "    return N_errors/len(emails)"
   ]
  },
  {
   "cell_type": "code",
   "execution_count": 198,
   "metadata": {
    "collapsed": false,
    "deletable": true,
    "editable": true
   },
   "outputs": [
    {
     "data": {
      "text/plain": [
       "(1, 1)"
      ]
     },
     "execution_count": 198,
     "metadata": {},
     "output_type": "execute_result"
    }
   ],
   "source": [
    "classifyZ(xtrainZ[0]), ytrain[0]"
   ]
  },
  {
   "cell_type": "code",
   "execution_count": 199,
   "metadata": {
    "collapsed": false,
    "deletable": true,
    "editable": true
   },
   "outputs": [],
   "source": [
    "error_rates_training_Z = error_rate_Z(xtrainZ, ytrain)"
   ]
  },
  {
   "cell_type": "code",
   "execution_count": 200,
   "metadata": {
    "collapsed": false,
    "deletable": true,
    "editable": true
   },
   "outputs": [
    {
     "data": {
      "text/plain": [
       "0.18858075040783034"
      ]
     },
     "execution_count": 200,
     "metadata": {},
     "output_type": "execute_result"
    }
   ],
   "source": [
    "error_rates_training_Z "
   ]
  },
  {
   "cell_type": "code",
   "execution_count": 201,
   "metadata": {
    "collapsed": false,
    "deletable": true,
    "editable": true
   },
   "outputs": [],
   "source": [
    "error_rates_test_Z = error_rate_Z(xtestZ, ytest)"
   ]
  },
  {
   "cell_type": "code",
   "execution_count": 202,
   "metadata": {
    "collapsed": false,
    "deletable": true,
    "editable": true
   },
   "outputs": [
    {
     "data": {
      "text/plain": [
       "0.16276041666666666"
      ]
     },
     "execution_count": 202,
     "metadata": {},
     "output_type": "execute_result"
    }
   ],
   "source": [
    "error_rates_test_Z"
   ]
  },
  {
   "cell_type": "markdown",
   "metadata": {
    "deletable": true,
    "editable": true
   },
   "source": [
    "## Log-Transform"
   ]
  },
  {
   "cell_type": "code",
   "execution_count": 8,
   "metadata": {
    "collapsed": true,
    "deletable": true,
    "editable": true
   },
   "outputs": [],
   "source": [
    "# training data feature MLE\n",
    "xtrainLog_mean_spam = np.mean(xtrainLog[ytrain==1],axis=0)\n",
    "xtrainLog_sigma_spam = np.std(xtrainLog[ytrain==1],axis=0)\n",
    "xtrainLog_mean_notspam = np.mean(xtrainLog[ytrain==0],axis=0)\n",
    "xtrainLog_sigma_notspam = np.std(xtrainLog[ytrain==0],axis=0)"
   ]
  },
  {
   "cell_type": "code",
   "execution_count": 17,
   "metadata": {
    "collapsed": true,
    "deletable": true,
    "editable": true
   },
   "outputs": [],
   "source": [
    " def classifyLog(email):\n",
    "    \"\"\"\n",
    "    BASED ON MLE\n",
    "    classifies each email according to a gaussian likelihood, \n",
    "    parameterised by the plug-in estimate, which is the training data feature MLE \n",
    "    :params email: 57-element log array\n",
    "    \"\"\"\n",
    "    N_features = len(email)\n",
    "    \n",
    "    SecondTerm_Spam = 0\n",
    "    SecondTerm_notSpam = 0\n",
    "    \n",
    "    for j in np.arange(N_features):\n",
    "\n",
    "#         SecondTerm_Spam += np.log(norm.pdf(email[j],\n",
    "#                                   xtrainLog_mean_spam[j],\n",
    "#                                   xtrainLog_sigma_spam[j]))\n",
    "\n",
    "#         SecondTerm_notSpam += np.log(norm.pdf(email[j],\n",
    "#                                      xtrainLog_mean_notspam[j],\n",
    "#                                      xtrainLog_sigma_notspam[j]))\n",
    "        \"\"\"Log Likelihood\"\"\"\n",
    "        SecondTerm_Spam += -np.log(xtrainLog_sigma_spam[j])-((email[j]-xtrainLog_mean_spam[j])/(xtrainLog_sigma_spam[j]))**2/2\n",
    "        SecondTerm_notSpam += -np.log(xtrainLog_sigma_notspam[j])-((email[j]-xtrainLog_mean_notspam[j])/(xtrainLog_sigma_notspam[j]))**2/2\n",
    "        \n",
    "    LogProb_Spam = np.log(classMLE) + SecondTerm_Spam\n",
    "    \n",
    "    LogProb_notSpam = np.log(1-classMLE) + SecondTerm_notSpam\n",
    "    \n",
    "    class_ = (LogProb_Spam > LogProb_notSpam).astype('uint8')\n",
    "    return class_"
   ]
  },
  {
   "cell_type": "code",
   "execution_count": 10,
   "metadata": {
    "collapsed": true,
    "deletable": true,
    "editable": true
   },
   "outputs": [],
   "source": [
    "def error_rate_Log(emails,categories):\n",
    "    N_errors = 0\n",
    "    \n",
    "    for idx,mail in enumerate(emails):\n",
    "            N_errors += np.logical_xor(classifyLog(mail), categories[idx])        \n",
    "\n",
    "    return N_errors/len(emails)"
   ]
  },
  {
   "cell_type": "code",
   "execution_count": 13,
   "metadata": {
    "collapsed": false,
    "deletable": true,
    "editable": true
   },
   "outputs": [],
   "source": [
    "error_rates_training_Log = error_rate_Log(xtrainLog, ytrain)"
   ]
  },
  {
   "cell_type": "code",
   "execution_count": 14,
   "metadata": {
    "collapsed": false,
    "deletable": true,
    "editable": true
   },
   "outputs": [
    {
     "data": {
      "text/plain": [
       "0.17259380097879282"
      ]
     },
     "execution_count": 14,
     "metadata": {},
     "output_type": "execute_result"
    }
   ],
   "source": [
    "error_rates_training_Log"
   ]
  },
  {
   "cell_type": "code",
   "execution_count": 15,
   "metadata": {
    "collapsed": true,
    "deletable": true,
    "editable": true
   },
   "outputs": [],
   "source": [
    "error_rates_test_Log = error_rate_Log(xtestLog, ytest)"
   ]
  },
  {
   "cell_type": "code",
   "execution_count": 16,
   "metadata": {
    "collapsed": false,
    "deletable": true,
    "editable": true
   },
   "outputs": [
    {
     "data": {
      "text/plain": [
       "0.15950520833333334"
      ]
     },
     "execution_count": 16,
     "metadata": {},
     "output_type": "execute_result"
    }
   ],
   "source": [
    "error_rates_test_Log"
   ]
  }
 ],
 "metadata": {
  "kernelspec": {
   "display_name": "Python 2",
   "language": "python",
   "name": "python2"
  },
  "language_info": {
   "codemirror_mode": {
    "name": "ipython",
    "version": 2
   },
   "file_extension": ".py",
   "mimetype": "text/x-python",
   "name": "python",
   "nbconvert_exporter": "python",
   "pygments_lexer": "ipython2",
   "version": "2.7.12"
  }
 },
 "nbformat": 4,
 "nbformat_minor": 2
}
